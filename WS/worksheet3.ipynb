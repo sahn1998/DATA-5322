{
 "cells": [
  {
   "cell_type": "markdown",
   "id": "9ee24b43-798e-48f3-a293-3b1dcbc57de8",
   "metadata": {
    "id": "9ee24b43-798e-48f3-a293-3b1dcbc57de8"
   },
   "source": [
    "## Worksheet 3: Support Vector Classifiers\n",
    "#### Student Name:\n"
   ]
  },
  {
   "cell_type": "code",
   "execution_count": 2,
   "id": "ec513e87-7bfb-45bc-8fd0-1e60004618eb",
   "metadata": {
    "colab": {
     "base_uri": "https://localhost:8080/",
     "height": 383
    },
    "executionInfo": {
     "elapsed": 7329,
     "status": "error",
     "timestamp": 1744685934662,
     "user": {
      "displayName": "Sunghyun Ahn",
      "userId": "09267937508065260675"
     },
     "user_tz": 420
    },
    "id": "ec513e87-7bfb-45bc-8fd0-1e60004618eb",
    "outputId": "0cb84968-ac35-4add-ce8c-1e3221388a8e"
   },
   "outputs": [],
   "source": [
    "import numpy as np\n",
    "from matplotlib.pyplot import subplots, cm\n",
    "import sklearn.model_selection as skm\n",
    "from ISLP import load_data, confusion_table\n",
    "from sklearn.svm import SVC\n",
    "from ISLP.svm import plot as plot_svm\n",
    "from sklearn.preprocessing import OneHotEncoder"
   ]
  },
  {
   "cell_type": "markdown",
   "id": "9a488bf1-8c34-4a76-bbf2-71aa034f9b72",
   "metadata": {
    "id": "9a488bf1-8c34-4a76-bbf2-71aa034f9b72"
   },
   "source": [
    "## Exercise 1\n",
    "This problem involves the OJ data set which is part of the ISLP package."
   ]
  },
  {
   "cell_type": "markdown",
   "id": "2e6d959d-1665-4b6f-bc5d-71e5048d542c",
   "metadata": {
    "id": "2e6d959d-1665-4b6f-bc5d-71e5048d542c"
   },
   "source": [
    "(a) Create a training set containing a random sample of 800 observations, and a test set containing the remaining observations."
   ]
  },
  {
   "cell_type": "code",
   "execution_count": 3,
   "id": "9d313cae-f1d8-4504-a300-b5952c6374bc",
   "metadata": {
    "id": "9d313cae-f1d8-4504-a300-b5952c6374bc"
   },
   "outputs": [],
   "source": [
    "from sklearn.model_selection import train_test_split\n",
    "\n",
    "OJ = load_data('OJ')\n",
    "\n",
    "X = OJ.drop(columns=['Purchase', 'Store7'])\n",
    "y = OJ['Purchase']\n",
    "\n",
    "X_train, X_test, y_train, y_test = train_test_split(\n",
    "    X, y, train_size=800, random_state=42, shuffle=False\n",
    ")"
   ]
  },
  {
   "cell_type": "markdown",
   "id": "87011532-9134-41ca-be1a-cf2460acfadf",
   "metadata": {
    "id": "87011532-9134-41ca-be1a-cf2460acfadf"
   },
   "source": [
    "(b) Fit a support vector classifier to the training data using cost = 0.01, with `Purchase` as the response and the other variables as predictors. How many support points are there?"
   ]
  },
  {
   "cell_type": "code",
   "execution_count": 4,
   "id": "859e84f5-ebd7-4501-86f7-09d37f207edd",
   "metadata": {
    "id": "859e84f5-ebd7-4501-86f7-09d37f207edd"
   },
   "outputs": [
    {
     "name": "stdout",
     "output_type": "stream",
     "text": [
      "608\n"
     ]
    }
   ],
   "source": [
    "clf = SVC(kernel='linear', C=0.01)\n",
    "clf.fit(X_train, y_train)\n",
    "\n",
    "n_support_vectors = sum(clf.n_support_)\n",
    "print(n_support_vectors)"
   ]
  },
  {
   "cell_type": "markdown",
   "id": "4bd4eba4-64d5-4528-bd41-c9b6997513fe",
   "metadata": {
    "id": "4bd4eba4-64d5-4528-bd41-c9b6997513fe"
   },
   "source": [
    "(c) What are the training and test error rates?"
   ]
  },
  {
   "cell_type": "code",
   "execution_count": 5,
   "id": "d71e1173-00a4-4d9b-88d7-6bc2a4918c19",
   "metadata": {
    "id": "d71e1173-00a4-4d9b-88d7-6bc2a4918c19"
   },
   "outputs": [
    {
     "name": "stdout",
     "output_type": "stream",
     "text": [
      "0.26\n",
      "0.29259259259259257\n"
     ]
    }
   ],
   "source": [
    "y_train_pred = clf.predict(X_train) #train\n",
    "y_test_pred = clf.predict(X_test)\n",
    "\n",
    "train_error_rate = np.mean(y_train_pred != y_train)\n",
    "test_error_rate = np.mean(y_test_pred != y_test)\n",
    "\n",
    "print(train_error_rate)\n",
    "print(test_error_rate)"
   ]
  },
  {
   "cell_type": "markdown",
   "id": "2e1f1619-f521-4569-8fba-a11ea00740aa",
   "metadata": {
    "id": "2e1f1619-f521-4569-8fba-a11ea00740aa"
   },
   "source": [
    "(d) Cross-validate to select an optimal cost. Consider values in the range 0.01 to 10."
   ]
  },
  {
   "cell_type": "code",
   "execution_count": 6,
   "id": "854dc102-02c5-4ca5-998e-f1088275f3fd",
   "metadata": {
    "id": "854dc102-02c5-4ca5-998e-f1088275f3fd"
   },
   "outputs": [],
   "source": [
    "from sklearn.model_selection import GridSearchCV\n",
    "\n",
    "param_grid = {'C': [0.01, 0.1, 1, 5, 10]}\n",
    "\n",
    "svc= SVC(kernel='linear')\n",
    "\n",
    "grid_search = GridSearchCV(svc, param_grid, cv=5)\n",
    "grid_search.fit(X_train, y_train)\n",
    "\n",
    "best_C = grid_search.best_params_['C']\n",
    "best_score = grid_search.best_score_"
   ]
  },
  {
   "cell_type": "code",
   "execution_count": 7,
   "id": "0d801250",
   "metadata": {
    "id": "0d801250"
   },
   "outputs": [
    {
     "name": "stdout",
     "output_type": "stream",
     "text": [
      "1\n",
      "0.8412500000000002\n"
     ]
    }
   ],
   "source": [
    "print(best_C)\n",
    "print(best_score)"
   ]
  },
  {
   "cell_type": "markdown",
   "id": "d88bf94c-c596-47a2-b401-789ed315ccac",
   "metadata": {
    "id": "d88bf94c-c596-47a2-b401-789ed315ccac"
   },
   "source": [
    "(e) Compute the training and test error rates using this new value for cost. How do these compare to part (c)? Comment on the logic behind this.\n",
    "\n",
    "We can see that the training and test error rates are lower. A larger cost means that the SVM model will prioritize correctly classifying all training points, even if it means reducing the margin. Thus, the train error rate should be reduced. However, this means that the test error rate can be increased, but in our case, it also decreased."
   ]
  },
  {
   "cell_type": "code",
   "execution_count": 8,
   "id": "b30d53d4-5a7a-4440-93e5-c6385dbc8f32",
   "metadata": {
    "id": "b30d53d4-5a7a-4440-93e5-c6385dbc8f32"
   },
   "outputs": [
    {
     "name": "stdout",
     "output_type": "stream",
     "text": [
      "0.14875\n",
      "0.2111111111111111\n"
     ]
    }
   ],
   "source": [
    "svc = SVC(kernel='linear', C=1)\n",
    "svc.fit(X_train, y_train)\n",
    "\n",
    "y_train_pred = svc.predict(X_train) #train\n",
    "y_test_pred = svc.predict(X_test) #train\n",
    "\n",
    "train_error_rate = np.mean(y_train_pred != y_train)\n",
    "test_error_rate = np.mean(y_test_pred != y_test)\n",
    "\n",
    "print(train_error_rate)\n",
    "print(test_error_rate)"
   ]
  },
  {
   "cell_type": "markdown",
   "id": "89ddd196-0c48-4126-b8eb-344b621f41e8",
   "metadata": {
    "id": "89ddd196-0c48-4126-b8eb-344b621f41e8"
   },
   "source": [
    "----"
   ]
  },
  {
   "cell_type": "markdown",
   "id": "ef451a4a-2652-4a0f-bc7b-a80c8a05db41",
   "metadata": {
    "id": "ef451a4a-2652-4a0f-bc7b-a80c8a05db41"
   },
   "source": [
    "## Exercise 2\n",
    "In this problem, you will use support vector approaches in order to predict whether a given car gets high or low gas mileage based on the Auto data set."
   ]
  },
  {
   "cell_type": "markdown",
   "id": "1b2a83c9-b38f-4413-80bb-dab26d264e63",
   "metadata": {
    "id": "1b2a83c9-b38f-4413-80bb-dab26d264e63"
   },
   "source": [
    "(a) Create a binary variable that takes on a 1 for cars with gas mileage above the median, and a 0 for cars with gas mileage below the median. Remove non-numerical variables and the original mpg variable."
   ]
  },
  {
   "cell_type": "code",
   "execution_count": 9,
   "id": "530c20f6-3ee9-47a0-9a4d-4d47d2390dd8",
   "metadata": {
    "id": "530c20f6-3ee9-47a0-9a4d-4d47d2390dd8"
   },
   "outputs": [],
   "source": [
    "auto = load_data('Auto')"
   ]
  },
  {
   "cell_type": "code",
   "execution_count": 10,
   "id": "7d3a36ba",
   "metadata": {
    "id": "7d3a36ba"
   },
   "outputs": [
    {
     "data": {
      "application/vnd.microsoft.datawrangler.viewer.v0+json": {
       "columns": [
        {
         "name": "name",
         "rawType": "object",
         "type": "string"
        },
        {
         "name": "mpg",
         "rawType": "float64",
         "type": "float"
        },
        {
         "name": "cylinders",
         "rawType": "int64",
         "type": "integer"
        },
        {
         "name": "displacement",
         "rawType": "float64",
         "type": "float"
        },
        {
         "name": "horsepower",
         "rawType": "int64",
         "type": "integer"
        },
        {
         "name": "weight",
         "rawType": "int64",
         "type": "integer"
        },
        {
         "name": "acceleration",
         "rawType": "float64",
         "type": "float"
        },
        {
         "name": "year",
         "rawType": "int64",
         "type": "integer"
        },
        {
         "name": "origin",
         "rawType": "int64",
         "type": "integer"
        }
       ],
       "conversionMethod": "pd.DataFrame",
       "ref": "0056aa92-cc78-47ba-a95c-824018aadf2a",
       "rows": [
        [
         "chevrolet chevelle malibu",
         "18.0",
         "8",
         "307.0",
         "130",
         "3504",
         "12.0",
         "70",
         "1"
        ],
        [
         "buick skylark 320",
         "15.0",
         "8",
         "350.0",
         "165",
         "3693",
         "11.5",
         "70",
         "1"
        ],
        [
         "plymouth satellite",
         "18.0",
         "8",
         "318.0",
         "150",
         "3436",
         "11.0",
         "70",
         "1"
        ],
        [
         "amc rebel sst",
         "16.0",
         "8",
         "304.0",
         "150",
         "3433",
         "12.0",
         "70",
         "1"
        ],
        [
         "ford torino",
         "17.0",
         "8",
         "302.0",
         "140",
         "3449",
         "10.5",
         "70",
         "1"
        ]
       ],
       "shape": {
        "columns": 8,
        "rows": 5
       }
      },
      "text/html": [
       "<div>\n",
       "<style scoped>\n",
       "    .dataframe tbody tr th:only-of-type {\n",
       "        vertical-align: middle;\n",
       "    }\n",
       "\n",
       "    .dataframe tbody tr th {\n",
       "        vertical-align: top;\n",
       "    }\n",
       "\n",
       "    .dataframe thead th {\n",
       "        text-align: right;\n",
       "    }\n",
       "</style>\n",
       "<table border=\"1\" class=\"dataframe\">\n",
       "  <thead>\n",
       "    <tr style=\"text-align: right;\">\n",
       "      <th></th>\n",
       "      <th>mpg</th>\n",
       "      <th>cylinders</th>\n",
       "      <th>displacement</th>\n",
       "      <th>horsepower</th>\n",
       "      <th>weight</th>\n",
       "      <th>acceleration</th>\n",
       "      <th>year</th>\n",
       "      <th>origin</th>\n",
       "    </tr>\n",
       "    <tr>\n",
       "      <th>name</th>\n",
       "      <th></th>\n",
       "      <th></th>\n",
       "      <th></th>\n",
       "      <th></th>\n",
       "      <th></th>\n",
       "      <th></th>\n",
       "      <th></th>\n",
       "      <th></th>\n",
       "    </tr>\n",
       "  </thead>\n",
       "  <tbody>\n",
       "    <tr>\n",
       "      <th>chevrolet chevelle malibu</th>\n",
       "      <td>18.0</td>\n",
       "      <td>8</td>\n",
       "      <td>307.0</td>\n",
       "      <td>130</td>\n",
       "      <td>3504</td>\n",
       "      <td>12.0</td>\n",
       "      <td>70</td>\n",
       "      <td>1</td>\n",
       "    </tr>\n",
       "    <tr>\n",
       "      <th>buick skylark 320</th>\n",
       "      <td>15.0</td>\n",
       "      <td>8</td>\n",
       "      <td>350.0</td>\n",
       "      <td>165</td>\n",
       "      <td>3693</td>\n",
       "      <td>11.5</td>\n",
       "      <td>70</td>\n",
       "      <td>1</td>\n",
       "    </tr>\n",
       "    <tr>\n",
       "      <th>plymouth satellite</th>\n",
       "      <td>18.0</td>\n",
       "      <td>8</td>\n",
       "      <td>318.0</td>\n",
       "      <td>150</td>\n",
       "      <td>3436</td>\n",
       "      <td>11.0</td>\n",
       "      <td>70</td>\n",
       "      <td>1</td>\n",
       "    </tr>\n",
       "    <tr>\n",
       "      <th>amc rebel sst</th>\n",
       "      <td>16.0</td>\n",
       "      <td>8</td>\n",
       "      <td>304.0</td>\n",
       "      <td>150</td>\n",
       "      <td>3433</td>\n",
       "      <td>12.0</td>\n",
       "      <td>70</td>\n",
       "      <td>1</td>\n",
       "    </tr>\n",
       "    <tr>\n",
       "      <th>ford torino</th>\n",
       "      <td>17.0</td>\n",
       "      <td>8</td>\n",
       "      <td>302.0</td>\n",
       "      <td>140</td>\n",
       "      <td>3449</td>\n",
       "      <td>10.5</td>\n",
       "      <td>70</td>\n",
       "      <td>1</td>\n",
       "    </tr>\n",
       "  </tbody>\n",
       "</table>\n",
       "</div>"
      ],
      "text/plain": [
       "                            mpg  cylinders  displacement  horsepower  weight  \\\n",
       "name                                                                           \n",
       "chevrolet chevelle malibu  18.0          8         307.0         130    3504   \n",
       "buick skylark 320          15.0          8         350.0         165    3693   \n",
       "plymouth satellite         18.0          8         318.0         150    3436   \n",
       "amc rebel sst              16.0          8         304.0         150    3433   \n",
       "ford torino                17.0          8         302.0         140    3449   \n",
       "\n",
       "                           acceleration  year  origin  \n",
       "name                                                   \n",
       "chevrolet chevelle malibu          12.0    70       1  \n",
       "buick skylark 320                  11.5    70       1  \n",
       "plymouth satellite                 11.0    70       1  \n",
       "amc rebel sst                      12.0    70       1  \n",
       "ford torino                        10.5    70       1  "
      ]
     },
     "execution_count": 10,
     "metadata": {},
     "output_type": "execute_result"
    }
   ],
   "source": [
    "auto.head()"
   ]
  },
  {
   "cell_type": "code",
   "execution_count": 11,
   "id": "8ad776d2",
   "metadata": {
    "id": "8ad776d2"
   },
   "outputs": [
    {
     "data": {
      "application/vnd.microsoft.datawrangler.viewer.v0+json": {
       "columns": [
        {
         "name": "name",
         "rawType": "object",
         "type": "string"
        },
        {
         "name": "cylinders",
         "rawType": "int64",
         "type": "integer"
        },
        {
         "name": "displacement",
         "rawType": "float64",
         "type": "float"
        },
        {
         "name": "horsepower",
         "rawType": "int64",
         "type": "integer"
        },
        {
         "name": "weight",
         "rawType": "int64",
         "type": "integer"
        },
        {
         "name": "acceleration",
         "rawType": "float64",
         "type": "float"
        },
        {
         "name": "year",
         "rawType": "int64",
         "type": "integer"
        },
        {
         "name": "origin",
         "rawType": "int64",
         "type": "integer"
        },
        {
         "name": "mpg_binary",
         "rawType": "int32",
         "type": "integer"
        }
       ],
       "conversionMethod": "pd.DataFrame",
       "ref": "042427c8-2739-4e2e-bd69-246ca9a83c70",
       "rows": [
        [
         "chevrolet chevelle malibu",
         "8",
         "307.0",
         "130",
         "3504",
         "12.0",
         "70",
         "1",
         "0"
        ],
        [
         "buick skylark 320",
         "8",
         "350.0",
         "165",
         "3693",
         "11.5",
         "70",
         "1",
         "0"
        ],
        [
         "plymouth satellite",
         "8",
         "318.0",
         "150",
         "3436",
         "11.0",
         "70",
         "1",
         "0"
        ],
        [
         "amc rebel sst",
         "8",
         "304.0",
         "150",
         "3433",
         "12.0",
         "70",
         "1",
         "0"
        ],
        [
         "ford torino",
         "8",
         "302.0",
         "140",
         "3449",
         "10.5",
         "70",
         "1",
         "0"
        ]
       ],
       "shape": {
        "columns": 8,
        "rows": 5
       }
      },
      "text/html": [
       "<div>\n",
       "<style scoped>\n",
       "    .dataframe tbody tr th:only-of-type {\n",
       "        vertical-align: middle;\n",
       "    }\n",
       "\n",
       "    .dataframe tbody tr th {\n",
       "        vertical-align: top;\n",
       "    }\n",
       "\n",
       "    .dataframe thead th {\n",
       "        text-align: right;\n",
       "    }\n",
       "</style>\n",
       "<table border=\"1\" class=\"dataframe\">\n",
       "  <thead>\n",
       "    <tr style=\"text-align: right;\">\n",
       "      <th></th>\n",
       "      <th>cylinders</th>\n",
       "      <th>displacement</th>\n",
       "      <th>horsepower</th>\n",
       "      <th>weight</th>\n",
       "      <th>acceleration</th>\n",
       "      <th>year</th>\n",
       "      <th>origin</th>\n",
       "      <th>mpg_binary</th>\n",
       "    </tr>\n",
       "    <tr>\n",
       "      <th>name</th>\n",
       "      <th></th>\n",
       "      <th></th>\n",
       "      <th></th>\n",
       "      <th></th>\n",
       "      <th></th>\n",
       "      <th></th>\n",
       "      <th></th>\n",
       "      <th></th>\n",
       "    </tr>\n",
       "  </thead>\n",
       "  <tbody>\n",
       "    <tr>\n",
       "      <th>chevrolet chevelle malibu</th>\n",
       "      <td>8</td>\n",
       "      <td>307.0</td>\n",
       "      <td>130</td>\n",
       "      <td>3504</td>\n",
       "      <td>12.0</td>\n",
       "      <td>70</td>\n",
       "      <td>1</td>\n",
       "      <td>0</td>\n",
       "    </tr>\n",
       "    <tr>\n",
       "      <th>buick skylark 320</th>\n",
       "      <td>8</td>\n",
       "      <td>350.0</td>\n",
       "      <td>165</td>\n",
       "      <td>3693</td>\n",
       "      <td>11.5</td>\n",
       "      <td>70</td>\n",
       "      <td>1</td>\n",
       "      <td>0</td>\n",
       "    </tr>\n",
       "    <tr>\n",
       "      <th>plymouth satellite</th>\n",
       "      <td>8</td>\n",
       "      <td>318.0</td>\n",
       "      <td>150</td>\n",
       "      <td>3436</td>\n",
       "      <td>11.0</td>\n",
       "      <td>70</td>\n",
       "      <td>1</td>\n",
       "      <td>0</td>\n",
       "    </tr>\n",
       "    <tr>\n",
       "      <th>amc rebel sst</th>\n",
       "      <td>8</td>\n",
       "      <td>304.0</td>\n",
       "      <td>150</td>\n",
       "      <td>3433</td>\n",
       "      <td>12.0</td>\n",
       "      <td>70</td>\n",
       "      <td>1</td>\n",
       "      <td>0</td>\n",
       "    </tr>\n",
       "    <tr>\n",
       "      <th>ford torino</th>\n",
       "      <td>8</td>\n",
       "      <td>302.0</td>\n",
       "      <td>140</td>\n",
       "      <td>3449</td>\n",
       "      <td>10.5</td>\n",
       "      <td>70</td>\n",
       "      <td>1</td>\n",
       "      <td>0</td>\n",
       "    </tr>\n",
       "  </tbody>\n",
       "</table>\n",
       "</div>"
      ],
      "text/plain": [
       "                           cylinders  displacement  horsepower  weight  \\\n",
       "name                                                                     \n",
       "chevrolet chevelle malibu          8         307.0         130    3504   \n",
       "buick skylark 320                  8         350.0         165    3693   \n",
       "plymouth satellite                 8         318.0         150    3436   \n",
       "amc rebel sst                      8         304.0         150    3433   \n",
       "ford torino                        8         302.0         140    3449   \n",
       "\n",
       "                           acceleration  year  origin  mpg_binary  \n",
       "name                                                               \n",
       "chevrolet chevelle malibu          12.0    70       1           0  \n",
       "buick skylark 320                  11.5    70       1           0  \n",
       "plymouth satellite                 11.0    70       1           0  \n",
       "amc rebel sst                      12.0    70       1           0  \n",
       "ford torino                        10.5    70       1           0  "
      ]
     },
     "execution_count": 11,
     "metadata": {},
     "output_type": "execute_result"
    }
   ],
   "source": [
    "median_mpg = auto['mpg'].median()\n",
    "auto['mpg_binary'] = (auto['mpg'] > median_mpg).astype(int)\n",
    "auto.drop(columns=['mpg'], inplace=True)\n",
    "auto = auto.select_dtypes(include=['number'])\n",
    "\n",
    "auto.head()"
   ]
  },
  {
   "cell_type": "markdown",
   "id": "d9291ed5-e667-4f2c-8cd2-998c37507fcb",
   "metadata": {
    "id": "d9291ed5-e667-4f2c-8cd2-998c37507fcb"
   },
   "source": [
    "(b) Fit a support vector classifier to the data with various values of cost, in order to predict whether a car gets high or low gas mileage. Report the cross-validation errors associated with different values of this parameter. Comment on your results.\n",
    "\n",
    "It looks like that best mean test error is with the lowest cost. There is some drop in the mean test error at around 0.5 cost, but overall, the lowest value that is spotted is with the lowest cost. In this case it suggests that a simpler decision boundary generalizes better to new data. The model benefits more from flexibility than strict separation."
   ]
  },
  {
   "cell_type": "code",
   "execution_count": 12,
   "id": "9ea4b0f1",
   "metadata": {
    "id": "9ea4b0f1"
   },
   "outputs": [],
   "source": [
    "X = auto.drop(columns='mpg_binary')\n",
    "y = auto['mpg_binary']\n",
    "\n",
    "X_train, X_test, y_train, y_test = train_test_split(X, y, test_size=0.3, random_state=42, shuffle=False)"
   ]
  },
  {
   "cell_type": "code",
   "execution_count": 13,
   "id": "bbcf0af5-b161-4c97-8043-ced6ff64e799",
   "metadata": {
    "id": "bbcf0af5-b161-4c97-8043-ced6ff64e799"
   },
   "outputs": [
    {
     "name": "stdout",
     "output_type": "stream",
     "text": [
      "   param_C  mean_test_error\n",
      "0    0.001         0.094882\n",
      "1    0.005         0.094882\n",
      "2    0.010         0.105859\n",
      "3    0.050         0.109495\n",
      "4    0.100         0.109495\n",
      "5    0.500         0.102222\n",
      "6    1.000         0.105993\n",
      "7    2.000         0.113266\n",
      "8    5.000         0.116902\n",
      "9   10.000         0.116902\n"
     ]
    }
   ],
   "source": [
    "import pandas as pd\n",
    "param_grid = {'C': [0.001, 0.005, 0.01, 0.05, 0.1, 0.5, 1, 2, 5, 10]}\n",
    "\n",
    "svc = SVC(kernel='linear')\n",
    "grid_search = GridSearchCV(svc, param_grid, cv=5, scoring='accuracy')\n",
    "grid_search.fit(X_train, y_train)\n",
    "\n",
    "results = pd.DataFrame(grid_search.cv_results_)\n",
    "results['mean_test_error'] = 1 - results['mean_test_score']\n",
    "\n",
    "cv_errors = results[['param_C', 'mean_test_error']]\n",
    "print(cv_errors)"
   ]
  },
  {
   "cell_type": "markdown",
   "id": "3d8a7fac-96e3-43e6-bd85-ad035a1e805c",
   "metadata": {
    "id": "3d8a7fac-96e3-43e6-bd85-ad035a1e805c"
   },
   "source": [
    "(c) Using the optimal value of cost you found, create a plot of the resulting classifications and discuss its meaning. Be sure to comment on the limitations of this plot to understand your model.  \n",
    "Hint: When plotting a support vector classifier before, we used only two predictor variables, which leads to an obvious x-y scatterplot. See the [following example](https://scikit-learn.org/stable/auto_examples/svm/plot_svm_margin.html#sphx-glr-auto-examples-svm-plot-svm-margin-py) in the scikit learn documentation for examples of plotting nice SVM boundaries.\n",
    "\n",
    "\n",
    "Well if we use this data and plot, SVM decision boundary is based only on horsepower and weight, but the dataset includes other important variables. So this doesn't reflect the model's full capability. Also, the plot is only valid if the task is binary classification (like mpg_binary). For multi-class, this kind of plot becomes much more complex.\n"
   ]
  },
  {
   "cell_type": "code",
   "execution_count": 14,
   "id": "2db02634-1434-4179-b722-7a9961ac21ca",
   "metadata": {
    "id": "2db02634-1434-4179-b722-7a9961ac21ca"
   },
   "outputs": [
    {
     "name": "stderr",
     "output_type": "stream",
     "text": [
      "c:\\Users\\sahn1\\OneDrive\\Documentos\\2025 Spring Quarter\\DATA-5322\\WS\\venv\\Lib\\site-packages\\ISLP\\svm.py:136: FutureWarning: Series.__getitem__ treating keys as positions is deprecated. In a future version, integer keys will always be treated as labels (consistent with DataFrame behavior). To access a value by position, use `ser.iloc[pos]`\n",
      "  Y_ = (2 * (Y[svm.support_] == svm.classes_[1]) - 1)\n"
     ]
    },
    {
     "data": {
      "image/png": "[encoded data removed]",
      "text/plain": [
       "<Figure size 800x800 with 1 Axes>"
      ]
     },
     "metadata": {},
     "output_type": "display_data"
    }
   ],
   "source": [
    "import matplotlib.pyplot as plt\n",
    "from sklearn.preprocessing import StandardScaler\n",
    "from ISLP.svm import plot as plot_svm\n",
    "\n",
    "# Step 1: Select features and target\n",
    "X = auto[['horsepower', 'weight']]\n",
    "y = auto['mpg_binary']\n",
    "\n",
    "# Step 2: Standardize features\n",
    "scaler = StandardScaler()\n",
    "X_scaled = scaler.fit_transform(X)\n",
    "\n",
    "# Step 3: Split scaled data\n",
    "X_train, X_test, y_train, y_test = train_test_split(\n",
    "    X_scaled, y, test_size=0.2, random_state=42\n",
    ")\n",
    "\n",
    "# Step 4: Train SVC on scaled data\n",
    "svc = SVC(kernel='linear', C=0.001)\n",
    "svc.fit(X_train, y_train)\n",
    "\n",
    "# Step 5: Plot\n",
    "fig, ax = plt.subplots(figsize=(8, 8))\n",
    "plot_svm(X_train, y_train, svc, ax=ax)\n",
    "ax.set_xlabel(\"Horsepower\")\n",
    "ax.set_ylabel(\"Weight\")\n",
    "ax.set_title(\"SVM Decision Boundary (C=0.001) for mpg_binary Classification\")\n",
    "plt.show()"
   ]
  },
  {
   "cell_type": "code",
   "execution_count": null,
   "id": "479652ca",
   "metadata": {
    "id": "479652ca"
   },
   "outputs": [],
   "source": []
  }
 ],
 "metadata": {
  "colab": {
   "provenance": []
  },
  "kernelspec": {
   "display_name": "venv",
   "language": "python",
   "name": "python3"
  },
  "language_info": {
   "codemirror_mode": {
    "name": "ipython",
    "version": 3
   },
   "file_extension": ".py",
   "mimetype": "text/x-python",
   "name": "python",
   "nbconvert_exporter": "python",
   "pygments_lexer": "ipython3",
   "version": "3.13.0"
  }
 },
 "nbformat": 4,
 "nbformat_minor": 5
}
