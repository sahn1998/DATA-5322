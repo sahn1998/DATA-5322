{
 "cells": [
  {
   "cell_type": "markdown",
   "id": "9719fc65",
   "metadata": {},
   "source": [
    "### Worksheet 5\n",
    "#### Author: Student Name"
   ]
  },
  {
   "cell_type": "code",
   "execution_count": 1,
   "id": "5ccc0fd9",
   "metadata": {},
   "outputs": [],
   "source": [
    "## libraries"
   ]
  },
  {
   "cell_type": "markdown",
   "id": "bcfba314",
   "metadata": {},
   "source": [
    "### Exercise 1\n",
    "Using a neural network, the goal is to predict if I will buy a car based on the price alone. 7 example observations are given in the table below. The input $X$ gives car price in thousands of dollars and the response $Y$ gives my purchase decision.\n",
    "\n",
    "(a-b) Include a photo of your by-hand work here. "
   ]
  },
  {
   "cell_type": "code",
   "execution_count": null,
   "id": "2be343da",
   "metadata": {},
   "outputs": [],
   "source": []
  },
  {
   "cell_type": "markdown",
   "id": "162bbd97",
   "metadata": {},
   "source": [
    "(c) Code up the function you found above. For each of the 7 observations above, find the value for $f(X)$, the output value of the neural network. Write your values in the table. On this training data, how well does this model predict my purchase decision? Assume a threshold of 0.5 differentiates yes/no."
   ]
  },
  {
   "cell_type": "code",
   "execution_count": null,
   "id": "9a02e1ed",
   "metadata": {},
   "outputs": [],
   "source": []
  },
  {
   "cell_type": "markdown",
   "id": "a9a8dd91",
   "metadata": {},
   "source": [
    "(d) Plot your model over a range of inputs from 0 to 100. Include a solid horizontal line for the threshold."
   ]
  },
  {
   "cell_type": "code",
   "execution_count": null,
   "id": "2729eee6",
   "metadata": {},
   "outputs": [],
   "source": []
  },
  {
   "cell_type": "markdown",
   "id": "004b678e",
   "metadata": {},
   "source": [
    "(e) Given this model, what is the response when $X=46$? How can this be interpreted in the context of the problem?"
   ]
  },
  {
   "cell_type": "code",
   "execution_count": null,
   "id": "8428cbcb",
   "metadata": {},
   "outputs": [],
   "source": []
  },
  {
   "cell_type": "markdown",
   "id": "05dd1d6a",
   "metadata": {},
   "source": [
    "### Exercise 2\n",
    "Fit a neural network to the `Default` data from the `ISLP` package. Use a single hidden layer with 10 units, and dropout regularization. Compare the classification performance of your model with that of linear logistic regression."
   ]
  },
  {
   "cell_type": "code",
   "execution_count": null,
   "id": "6653031e",
   "metadata": {},
   "outputs": [],
   "source": []
  },
  {
   "cell_type": "markdown",
   "id": "26301b9d",
   "metadata": {},
   "source": [
    "### Exercise 3\n",
    "From your collection of personal photographs, pick 10 images of animals (such as dogs, cats, birds, farm animals, etc.). If the subject does not occupy a reasonable part of the image, then crop the image. Now use a pretrained image classification CNN as in the lab to predict the class of each of your images, and report the probabilities for the top five predicted classes for each image."
   ]
  },
  {
   "cell_type": "code",
   "execution_count": null,
   "id": "8eb1320b",
   "metadata": {},
   "outputs": [],
   "source": []
  }
 ],
 "metadata": {
  "kernelspec": {
   "display_name": "Python 3",
   "language": "python",
   "name": "python3"
  },
  "language_info": {
   "codemirror_mode": {
    "name": "ipython",
    "version": 3
   },
   "file_extension": ".py",
   "mimetype": "text/x-python",
   "name": "python",
   "nbconvert_exporter": "python",
   "pygments_lexer": "ipython3",
   "version": "3.8.8"
  }
 },
 "nbformat": 4,
 "nbformat_minor": 5
}
