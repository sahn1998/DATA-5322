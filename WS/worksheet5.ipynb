{
 "cells": [
  {
   "cell_type": "markdown",
   "id": "9719fc65",
   "metadata": {},
   "source": [
    "### Worksheet 5\n",
    "#### Author: Sunghyun Ahn"
   ]
  },
  {
   "cell_type": "code",
   "execution_count": 1,
   "id": "5ccc0fd9",
   "metadata": {},
   "outputs": [],
   "source": [
    "## libraries\n",
    "import pandas as pd\n",
    "import numpy as np\n",
    "import matplotlib.pyplot as plt\n",
    "\n",
    "from sklearn.model_selection import train_test_split\n",
    "from sklearn.preprocessing import LabelEncoder, StandardScaler\n",
    "\n",
    "\n",
    "from ISLP import load_data\n",
    "\n",
    "import tensorflow as tf\n",
    "import keras\n",
    "from tensorflow.keras import layers, Model\n",
    "from tensorflow.keras.optimizers import Adam\n",
    "\n",
    "from sklearn.linear_model import LogisticRegression\n",
    "from sklearn.metrics import accuracy_score\n",
    "\n",
    "from keras.datasets import cifar10"
   ]
  },
  {
   "cell_type": "markdown",
   "id": "bcfba314",
   "metadata": {},
   "source": [
    "### Exercise 1\n",
    "Using a neural network, the goal is to predict if I will buy a car based on the price alone. 7 example observations are given in the table below. The input $X$ gives car price in thousands of dollars and the response $Y$ gives my purchase decision.\n",
    "\n",
    "(a-b) Include a photo of your by-hand work here. "
   ]
  },
  {
   "cell_type": "markdown",
   "id": "a84516b0",
   "metadata": {},
   "source": [
    "![a-b](W5\\KakaoTalk_20250428_220826773.jpg)"
   ]
  },
  {
   "cell_type": "code",
   "execution_count": 2,
   "id": "2be343da",
   "metadata": {},
   "outputs": [],
   "source": [
    "# Given data\n",
    "data = {\n",
    "    'obs': [1, 2, 3, 4, 5, 6, 7],\n",
    "    'X': [0, 5, 19, 20, 45, 50, 60],\n",
    "    'Y_actual': ['yes', 'no', 'no', 'yes', 'yes', 'no', 'no']\n",
    "}"
   ]
  },
  {
   "cell_type": "markdown",
   "id": "162bbd97",
   "metadata": {},
   "source": [
    "(c) Code up the function you found above. For each of the 7 observations above, find the value for $f(X)$, the output value of the neural network. Write your values in the table. On this training data, how well does this model predict my purchase decision? Assume a threshold of 0.5 differentiates yes/no.\n",
    "- If you look at the attached photo, you can see that the values come out to (for each observation). \n",
    "1. 0.51910935\n",
    "2. 0.34658\n",
    "3. 0.45\n",
    "4. 0.50\n",
    "5. 0.54\n",
    "6. 0.087\n",
    "7. 0.00025\n",
    "\n",
    "Since the decision was yes, no, no, yes, yes, no, no. With a threshold of 0.5, it actually fits exactly to the decision."
   ]
  },
  {
   "cell_type": "code",
   "execution_count": 3,
   "id": "9a02e1ed",
   "metadata": {},
   "outputs": [],
   "source": [
    "# Define function to compute f(X)\n",
    "def compute_f(X):\n",
    "    z1 = -8 + (0.4 * X)\n",
    "    z2 = 1 + (0.25 * X)\n",
    "    z3 = -28 + (0.6 * X)\n",
    "    \n",
    "    g1 = 1 / (1 + np.exp(-z1))\n",
    "    g2 = 1 / (1 + np.exp(-z2))\n",
    "    g3 = 1 / (1 + np.exp(-z3))\n",
    "    \n",
    "    f_X = 1.25 + 0.5 * g1 - 1 * g2 - 0.75 * g3\n",
    "    return f_X"
   ]
  },
  {
   "cell_type": "code",
   "execution_count": 4,
   "id": "74e76884",
   "metadata": {},
   "outputs": [],
   "source": [
    "df = pd.DataFrame(data)\n",
    "df['f(X)'] = df['X'].apply(compute_f)"
   ]
  },
  {
   "cell_type": "code",
   "execution_count": 5,
   "id": "c1ebc21a",
   "metadata": {},
   "outputs": [
    {
     "data": {
      "text/html": [
       "<div>\n",
       "<style scoped>\n",
       "    .dataframe tbody tr th:only-of-type {\n",
       "        vertical-align: middle;\n",
       "    }\n",
       "\n",
       "    .dataframe tbody tr th {\n",
       "        vertical-align: top;\n",
       "    }\n",
       "\n",
       "    .dataframe thead th {\n",
       "        text-align: right;\n",
       "    }\n",
       "</style>\n",
       "<table border=\"1\" class=\"dataframe\">\n",
       "  <thead>\n",
       "    <tr style=\"text-align: right;\">\n",
       "      <th></th>\n",
       "      <th>obs</th>\n",
       "      <th>X</th>\n",
       "      <th>Y_actual</th>\n",
       "      <th>f(X)</th>\n",
       "    </tr>\n",
       "  </thead>\n",
       "  <tbody>\n",
       "    <tr>\n",
       "      <th>0</th>\n",
       "      <td>1</td>\n",
       "      <td>0</td>\n",
       "      <td>yes</td>\n",
       "      <td>0.519109</td>\n",
       "    </tr>\n",
       "    <tr>\n",
       "      <th>1</th>\n",
       "      <td>2</td>\n",
       "      <td>5</td>\n",
       "      <td>no</td>\n",
       "      <td>0.346586</td>\n",
       "    </tr>\n",
       "    <tr>\n",
       "      <th>2</th>\n",
       "      <td>3</td>\n",
       "      <td>19</td>\n",
       "      <td>no</td>\n",
       "      <td>0.453829</td>\n",
       "    </tr>\n",
       "    <tr>\n",
       "      <th>3</th>\n",
       "      <td>4</td>\n",
       "      <td>20</td>\n",
       "      <td>yes</td>\n",
       "      <td>0.502473</td>\n",
       "    </tr>\n",
       "    <tr>\n",
       "      <th>4</th>\n",
       "      <td>5</td>\n",
       "      <td>45</td>\n",
       "      <td>yes</td>\n",
       "      <td>0.548276</td>\n",
       "    </tr>\n",
       "    <tr>\n",
       "      <th>5</th>\n",
       "      <td>6</td>\n",
       "      <td>50</td>\n",
       "      <td>no</td>\n",
       "      <td>0.089400</td>\n",
       "    </tr>\n",
       "    <tr>\n",
       "      <th>6</th>\n",
       "      <td>7</td>\n",
       "      <td>60</td>\n",
       "      <td>no</td>\n",
       "      <td>0.000252</td>\n",
       "    </tr>\n",
       "  </tbody>\n",
       "</table>\n",
       "</div>"
      ],
      "text/plain": [
       "   obs   X Y_actual      f(X)\n",
       "0    1   0      yes  0.519109\n",
       "1    2   5       no  0.346586\n",
       "2    3  19       no  0.453829\n",
       "3    4  20      yes  0.502473\n",
       "4    5  45      yes  0.548276\n",
       "5    6  50       no  0.089400\n",
       "6    7  60       no  0.000252"
      ]
     },
     "execution_count": 5,
     "metadata": {},
     "output_type": "execute_result"
    }
   ],
   "source": [
    "df.head(10)"
   ]
  },
  {
   "cell_type": "markdown",
   "id": "a9a8dd91",
   "metadata": {},
   "source": [
    "(d) Plot your model over a range of inputs from 0 to 100. Include a solid horizontal line for the threshold."
   ]
  },
  {
   "cell_type": "code",
   "execution_count": 6,
   "id": "2729eee6",
   "metadata": {},
   "outputs": [
    {
     "data": {
      "image/png": "[encoded data removed]",
      "text/plain": [
       "<Figure size 1000x600 with 1 Axes>"
      ]
     },
     "metadata": {},
     "output_type": "display_data"
    }
   ],
   "source": [
    "# Generate X values from 0 to 100\n",
    "X_range = np.linspace(0, 100, 500)\n",
    "Y_values = compute_f(X_range)\n",
    "\n",
    "plt.figure(figsize=(10, 6))\n",
    "plt.plot(X_range, Y_values, label='f(X)', color='blue')\n",
    "plt.axhline(y=0.5, color='red', linestyle='--', label='Threshold (0.5)')\n",
    "plt.title('Neural Network Output f(X) vs Car Price (X)')\n",
    "plt.xlabel('Car Price X (in thousands)')\n",
    "plt.ylabel('f(X)')\n",
    "plt.legend()\n",
    "plt.grid(True)\n",
    "plt.show()"
   ]
  },
  {
   "cell_type": "markdown",
   "id": "004b678e",
   "metadata": {},
   "source": [
    "(e) Given this model, what is the response when $X=46$? How can this be interpreted in the context of the problem?\n",
    "\n",
    "- If we solely look at the context of this problem, the response given was 0.4490. Meaning that for X=46, we will classify \"NO\" as the purchase decision. Looking at the curve above, that actually makes sense because ~44/45 is when the line starts to go back below the threshold"
   ]
  },
  {
   "cell_type": "code",
   "execution_count": 7,
   "id": "8428cbcb",
   "metadata": {},
   "outputs": [
    {
     "name": "stdout",
     "output_type": "stream",
     "text": [
      "f(46) = 0.4490\n"
     ]
    }
   ],
   "source": [
    "X_value = 46\n",
    "f_46 = compute_f(X_value)\n",
    "\n",
    "print(f\"f(46) = {f_46:.4f}\")"
   ]
  },
  {
   "cell_type": "markdown",
   "id": "05dd1d6a",
   "metadata": {},
   "source": [
    "### Exercise 2\n",
    "Fit a neural network to the `Default` data from the `ISLP` package. Use a single hidden layer with 10 units, and dropout regularization. Compare the classification performance of your model with that of linear logistic regression."
   ]
  },
  {
   "cell_type": "markdown",
   "id": "521e828e",
   "metadata": {},
   "source": [
    "You can see that the NN actually did worse in terms of mean absolute errors. However, the difference isn't that big. It's possible we can use different dropout layer and tune the number of epochs to get a better result, but regardless, both results are looking very good."
   ]
  },
  {
   "cell_type": "code",
   "execution_count": 8,
   "id": "0336edf7",
   "metadata": {},
   "outputs": [
    {
     "data": {
      "text/html": [
       "<div>\n",
       "<style scoped>\n",
       "    .dataframe tbody tr th:only-of-type {\n",
       "        vertical-align: middle;\n",
       "    }\n",
       "\n",
       "    .dataframe tbody tr th {\n",
       "        vertical-align: top;\n",
       "    }\n",
       "\n",
       "    .dataframe thead th {\n",
       "        text-align: right;\n",
       "    }\n",
       "</style>\n",
       "<table border=\"1\" class=\"dataframe\">\n",
       "  <thead>\n",
       "    <tr style=\"text-align: right;\">\n",
       "      <th></th>\n",
       "      <th>default</th>\n",
       "      <th>student</th>\n",
       "      <th>balance</th>\n",
       "      <th>income</th>\n",
       "    </tr>\n",
       "  </thead>\n",
       "  <tbody>\n",
       "    <tr>\n",
       "      <th>0</th>\n",
       "      <td>No</td>\n",
       "      <td>No</td>\n",
       "      <td>729.526495</td>\n",
       "      <td>44361.625074</td>\n",
       "    </tr>\n",
       "    <tr>\n",
       "      <th>1</th>\n",
       "      <td>No</td>\n",
       "      <td>Yes</td>\n",
       "      <td>817.180407</td>\n",
       "      <td>12106.134700</td>\n",
       "    </tr>\n",
       "    <tr>\n",
       "      <th>2</th>\n",
       "      <td>No</td>\n",
       "      <td>No</td>\n",
       "      <td>1073.549164</td>\n",
       "      <td>31767.138947</td>\n",
       "    </tr>\n",
       "    <tr>\n",
       "      <th>3</th>\n",
       "      <td>No</td>\n",
       "      <td>No</td>\n",
       "      <td>529.250605</td>\n",
       "      <td>35704.493935</td>\n",
       "    </tr>\n",
       "    <tr>\n",
       "      <th>4</th>\n",
       "      <td>No</td>\n",
       "      <td>No</td>\n",
       "      <td>785.655883</td>\n",
       "      <td>38463.495879</td>\n",
       "    </tr>\n",
       "  </tbody>\n",
       "</table>\n",
       "</div>"
      ],
      "text/plain": [
       "  default student      balance        income\n",
       "0      No      No   729.526495  44361.625074\n",
       "1      No     Yes   817.180407  12106.134700\n",
       "2      No      No  1073.549164  31767.138947\n",
       "3      No      No   529.250605  35704.493935\n",
       "4      No      No   785.655883  38463.495879"
      ]
     },
     "execution_count": 8,
     "metadata": {},
     "output_type": "execute_result"
    }
   ],
   "source": [
    "default = OJ = load_data('Default')\n",
    "\n",
    "default.head()"
   ]
  },
  {
   "cell_type": "code",
   "execution_count": 9,
   "id": "54461f10",
   "metadata": {},
   "outputs": [],
   "source": [
    "# Encode categorical variables\n",
    "le_default = LabelEncoder()\n",
    "le_student = LabelEncoder()\n",
    "\n",
    "default['default'] = le_default.fit_transform(default['default'])  # Yes=1, No=0\n",
    "default['student'] = le_student.fit_transform(default['student'])  # Yes=1, No=0\n",
    "\n",
    "# Define features and target\n",
    "X = default[['student', 'balance', 'income']]\n",
    "y = default['default']\n",
    "\n",
    "# Scale the features\n",
    "scaler = StandardScaler()\n",
    "X_scaled = scaler.fit_transform(X)\n",
    "\n",
    "# Train/test split\n",
    "X_train, X_test, y_train, y_test = train_test_split(\n",
    "    X_scaled, y, test_size=0.3, random_state=42\n",
    ")"
   ]
  },
  {
   "cell_type": "code",
   "execution_count": 10,
   "id": "6653031e",
   "metadata": {},
   "outputs": [
    {
     "name": "stdout",
     "output_type": "stream",
     "text": [
      "Epoch 1/50\n",
      "\u001b[1m175/175\u001b[0m \u001b[32m━━━━━━━━━━━━━━━━━━━━\u001b[0m\u001b[37m\u001b[0m \u001b[1m1s\u001b[0m 2ms/step - accuracy: 0.8825 - loss: 0.4305 - val_accuracy: 0.9650 - val_loss: 0.2203\n",
      "Epoch 2/50\n",
      "\u001b[1m175/175\u001b[0m \u001b[32m━━━━━━━━━━━━━━━━━━━━\u001b[0m\u001b[37m\u001b[0m \u001b[1m0s\u001b[0m 2ms/step - accuracy: 0.9656 - loss: 0.2191 - val_accuracy: 0.9650 - val_loss: 0.1438\n",
      "Epoch 3/50\n",
      "\u001b[1m175/175\u001b[0m \u001b[32m━━━━━━━━━━━━━━━━━━━━\u001b[0m\u001b[37m\u001b[0m \u001b[1m0s\u001b[0m 2ms/step - accuracy: 0.9685 - loss: 0.1535 - val_accuracy: 0.9650 - val_loss: 0.1180\n",
      "Epoch 4/50\n",
      "\u001b[1m175/175\u001b[0m \u001b[32m━━━━━━━━━━━━━━━━━━━━\u001b[0m\u001b[37m\u001b[0m \u001b[1m0s\u001b[0m 2ms/step - accuracy: 0.9629 - loss: 0.1397 - val_accuracy: 0.9650 - val_loss: 0.1048\n",
      "Epoch 5/50\n",
      "\u001b[1m175/175\u001b[0m \u001b[32m━━━━━━━━━━━━━━━━━━━━\u001b[0m\u001b[37m\u001b[0m \u001b[1m0s\u001b[0m 2ms/step - accuracy: 0.9696 - loss: 0.1127 - val_accuracy: 0.9650 - val_loss: 0.0977\n",
      "Epoch 6/50\n",
      "\u001b[1m175/175\u001b[0m \u001b[32m━━━━━━━━━━━━━━━━━━━━\u001b[0m\u001b[37m\u001b[0m \u001b[1m0s\u001b[0m 2ms/step - accuracy: 0.9645 - loss: 0.1190 - val_accuracy: 0.9650 - val_loss: 0.0931\n",
      "Epoch 7/50\n",
      "\u001b[1m175/175\u001b[0m \u001b[32m━━━━━━━━━━━━━━━━━━━━\u001b[0m\u001b[37m\u001b[0m \u001b[1m0s\u001b[0m 2ms/step - accuracy: 0.9688 - loss: 0.1009 - val_accuracy: 0.9650 - val_loss: 0.0888\n",
      "Epoch 8/50\n",
      "\u001b[1m175/175\u001b[0m \u001b[32m━━━━━━━━━━━━━━━━━━━━\u001b[0m\u001b[37m\u001b[0m \u001b[1m0s\u001b[0m 2ms/step - accuracy: 0.9706 - loss: 0.0989 - val_accuracy: 0.9650 - val_loss: 0.0856\n",
      "Epoch 9/50\n",
      "\u001b[1m175/175\u001b[0m \u001b[32m━━━━━━━━━━━━━━━━━━━━\u001b[0m\u001b[37m\u001b[0m \u001b[1m0s\u001b[0m 2ms/step - accuracy: 0.9632 - loss: 0.1093 - val_accuracy: 0.9650 - val_loss: 0.0828\n",
      "Epoch 10/50\n",
      "\u001b[1m175/175\u001b[0m \u001b[32m━━━━━━━━━━━━━━━━━━━━\u001b[0m\u001b[37m\u001b[0m \u001b[1m0s\u001b[0m 2ms/step - accuracy: 0.9669 - loss: 0.0979 - val_accuracy: 0.9650 - val_loss: 0.0812\n",
      "Epoch 11/50\n",
      "\u001b[1m175/175\u001b[0m \u001b[32m━━━━━━━━━━━━━━━━━━━━\u001b[0m\u001b[37m\u001b[0m \u001b[1m0s\u001b[0m 2ms/step - accuracy: 0.9627 - loss: 0.1058 - val_accuracy: 0.9650 - val_loss: 0.0795\n",
      "Epoch 12/50\n",
      "\u001b[1m175/175\u001b[0m \u001b[32m━━━━━━━━━━━━━━━━━━━━\u001b[0m\u001b[37m\u001b[0m \u001b[1m0s\u001b[0m 2ms/step - accuracy: 0.9649 - loss: 0.0999 - val_accuracy: 0.9650 - val_loss: 0.0779\n",
      "Epoch 13/50\n",
      "\u001b[1m175/175\u001b[0m \u001b[32m━━━━━━━━━━━━━━━━━━━━\u001b[0m\u001b[37m\u001b[0m \u001b[1m0s\u001b[0m 2ms/step - accuracy: 0.9650 - loss: 0.0973 - val_accuracy: 0.9650 - val_loss: 0.0769\n",
      "Epoch 14/50\n",
      "\u001b[1m175/175\u001b[0m \u001b[32m━━━━━━━━━━━━━━━━━━━━\u001b[0m\u001b[37m\u001b[0m \u001b[1m0s\u001b[0m 2ms/step - accuracy: 0.9678 - loss: 0.0894 - val_accuracy: 0.9650 - val_loss: 0.0760\n",
      "Epoch 15/50\n",
      "\u001b[1m175/175\u001b[0m \u001b[32m━━━━━━━━━━━━━━━━━━━━\u001b[0m\u001b[37m\u001b[0m \u001b[1m0s\u001b[0m 2ms/step - accuracy: 0.9686 - loss: 0.0918 - val_accuracy: 0.9650 - val_loss: 0.0753\n",
      "Epoch 16/50\n",
      "\u001b[1m175/175\u001b[0m \u001b[32m━━━━━━━━━━━━━━━━━━━━\u001b[0m\u001b[37m\u001b[0m \u001b[1m0s\u001b[0m 2ms/step - accuracy: 0.9619 - loss: 0.1001 - val_accuracy: 0.9650 - val_loss: 0.0751\n",
      "Epoch 17/50\n",
      "\u001b[1m175/175\u001b[0m \u001b[32m━━━━━━━━━━━━━━━━━━━━\u001b[0m\u001b[37m\u001b[0m \u001b[1m0s\u001b[0m 2ms/step - accuracy: 0.9661 - loss: 0.0938 - val_accuracy: 0.9650 - val_loss: 0.0750\n",
      "Epoch 18/50\n",
      "\u001b[1m175/175\u001b[0m \u001b[32m━━━━━━━━━━━━━━━━━━━━\u001b[0m\u001b[37m\u001b[0m \u001b[1m0s\u001b[0m 2ms/step - accuracy: 0.9659 - loss: 0.0950 - val_accuracy: 0.9650 - val_loss: 0.0746\n",
      "Epoch 19/50\n",
      "\u001b[1m175/175\u001b[0m \u001b[32m━━━━━━━━━━━━━━━━━━━━\u001b[0m\u001b[37m\u001b[0m \u001b[1m0s\u001b[0m 2ms/step - accuracy: 0.9618 - loss: 0.1029 - val_accuracy: 0.9650 - val_loss: 0.0740\n",
      "Epoch 20/50\n",
      "\u001b[1m175/175\u001b[0m \u001b[32m━━━━━━━━━━━━━━━━━━━━\u001b[0m\u001b[37m\u001b[0m \u001b[1m0s\u001b[0m 2ms/step - accuracy: 0.9670 - loss: 0.0958 - val_accuracy: 0.9650 - val_loss: 0.0741\n",
      "Epoch 21/50\n",
      "\u001b[1m175/175\u001b[0m \u001b[32m━━━━━━━━━━━━━━━━━━━━\u001b[0m\u001b[37m\u001b[0m \u001b[1m0s\u001b[0m 2ms/step - accuracy: 0.9723 - loss: 0.0899 - val_accuracy: 0.9650 - val_loss: 0.0744\n",
      "Epoch 22/50\n",
      "\u001b[1m175/175\u001b[0m \u001b[32m━━━━━━━━━━━━━━━━━━━━\u001b[0m\u001b[37m\u001b[0m \u001b[1m0s\u001b[0m 2ms/step - accuracy: 0.9699 - loss: 0.0864 - val_accuracy: 0.9650 - val_loss: 0.0744\n",
      "Epoch 23/50\n",
      "\u001b[1m175/175\u001b[0m \u001b[32m━━━━━━━━━━━━━━━━━━━━\u001b[0m\u001b[37m\u001b[0m \u001b[1m0s\u001b[0m 2ms/step - accuracy: 0.9670 - loss: 0.0907 - val_accuracy: 0.9650 - val_loss: 0.0740\n",
      "Epoch 24/50\n",
      "\u001b[1m175/175\u001b[0m \u001b[32m━━━━━━━━━━━━━━━━━━━━\u001b[0m\u001b[37m\u001b[0m \u001b[1m0s\u001b[0m 2ms/step - accuracy: 0.9640 - loss: 0.0935 - val_accuracy: 0.9650 - val_loss: 0.0738\n",
      "Epoch 25/50\n",
      "\u001b[1m175/175\u001b[0m \u001b[32m━━━━━━━━━━━━━━━━━━━━\u001b[0m\u001b[37m\u001b[0m \u001b[1m0s\u001b[0m 2ms/step - accuracy: 0.9648 - loss: 0.0955 - val_accuracy: 0.9650 - val_loss: 0.0739\n",
      "Epoch 26/50\n",
      "\u001b[1m175/175\u001b[0m \u001b[32m━━━━━━━━━━━━━━━━━━━━\u001b[0m\u001b[37m\u001b[0m \u001b[1m0s\u001b[0m 2ms/step - accuracy: 0.9667 - loss: 0.0933 - val_accuracy: 0.9650 - val_loss: 0.0739\n",
      "Epoch 27/50\n",
      "\u001b[1m175/175\u001b[0m \u001b[32m━━━━━━━━━━━━━━━━━━━━\u001b[0m\u001b[37m\u001b[0m \u001b[1m0s\u001b[0m 2ms/step - accuracy: 0.9629 - loss: 0.1026 - val_accuracy: 0.9650 - val_loss: 0.0741\n",
      "Epoch 28/50\n",
      "\u001b[1m175/175\u001b[0m \u001b[32m━━━━━━━━━━━━━━━━━━━━\u001b[0m\u001b[37m\u001b[0m \u001b[1m0s\u001b[0m 2ms/step - accuracy: 0.9672 - loss: 0.0886 - val_accuracy: 0.9650 - val_loss: 0.0739\n",
      "Epoch 29/50\n",
      "\u001b[1m175/175\u001b[0m \u001b[32m━━━━━━━━━━━━━━━━━━━━\u001b[0m\u001b[37m\u001b[0m \u001b[1m0s\u001b[0m 2ms/step - accuracy: 0.9654 - loss: 0.0935 - val_accuracy: 0.9650 - val_loss: 0.0735\n",
      "Epoch 30/50\n",
      "\u001b[1m175/175\u001b[0m \u001b[32m━━━━━━━━━━━━━━━━━━━━\u001b[0m\u001b[37m\u001b[0m \u001b[1m0s\u001b[0m 2ms/step - accuracy: 0.9699 - loss: 0.0973 - val_accuracy: 0.9650 - val_loss: 0.0739\n",
      "Epoch 31/50\n",
      "\u001b[1m175/175\u001b[0m \u001b[32m━━━━━━━━━━━━━━━━━━━━\u001b[0m\u001b[37m\u001b[0m \u001b[1m0s\u001b[0m 2ms/step - accuracy: 0.9628 - loss: 0.0979 - val_accuracy: 0.9650 - val_loss: 0.0735\n",
      "Epoch 32/50\n",
      "\u001b[1m175/175\u001b[0m \u001b[32m━━━━━━━━━━━━━━━━━━━━\u001b[0m\u001b[37m\u001b[0m \u001b[1m0s\u001b[0m 2ms/step - accuracy: 0.9664 - loss: 0.0919 - val_accuracy: 0.9650 - val_loss: 0.0738\n",
      "Epoch 33/50\n",
      "\u001b[1m175/175\u001b[0m \u001b[32m━━━━━━━━━━━━━━━━━━━━\u001b[0m\u001b[37m\u001b[0m \u001b[1m0s\u001b[0m 2ms/step - accuracy: 0.9673 - loss: 0.0900 - val_accuracy: 0.9650 - val_loss: 0.0734\n",
      "Epoch 34/50\n",
      "\u001b[1m175/175\u001b[0m \u001b[32m━━━━━━━━━━━━━━━━━━━━\u001b[0m\u001b[37m\u001b[0m \u001b[1m0s\u001b[0m 2ms/step - accuracy: 0.9655 - loss: 0.0936 - val_accuracy: 0.9650 - val_loss: 0.0731\n",
      "Epoch 35/50\n",
      "\u001b[1m175/175\u001b[0m \u001b[32m━━━━━━━━━━━━━━━━━━━━\u001b[0m\u001b[37m\u001b[0m \u001b[1m0s\u001b[0m 2ms/step - accuracy: 0.9693 - loss: 0.0892 - val_accuracy: 0.9650 - val_loss: 0.0738\n",
      "Epoch 36/50\n",
      "\u001b[1m175/175\u001b[0m \u001b[32m━━━━━━━━━━━━━━━━━━━━\u001b[0m\u001b[37m\u001b[0m \u001b[1m0s\u001b[0m 2ms/step - accuracy: 0.9684 - loss: 0.0916 - val_accuracy: 0.9650 - val_loss: 0.0736\n",
      "Epoch 37/50\n",
      "\u001b[1m175/175\u001b[0m \u001b[32m━━━━━━━━━━━━━━━━━━━━\u001b[0m\u001b[37m\u001b[0m \u001b[1m0s\u001b[0m 2ms/step - accuracy: 0.9695 - loss: 0.0861 - val_accuracy: 0.9650 - val_loss: 0.0735\n",
      "Epoch 38/50\n",
      "\u001b[1m175/175\u001b[0m \u001b[32m━━━━━━━━━━━━━━━━━━━━\u001b[0m\u001b[37m\u001b[0m \u001b[1m0s\u001b[0m 2ms/step - accuracy: 0.9685 - loss: 0.0872 - val_accuracy: 0.9650 - val_loss: 0.0733\n",
      "Epoch 39/50\n",
      "\u001b[1m175/175\u001b[0m \u001b[32m━━━━━━━━━━━━━━━━━━━━\u001b[0m\u001b[37m\u001b[0m \u001b[1m0s\u001b[0m 2ms/step - accuracy: 0.9650 - loss: 0.0956 - val_accuracy: 0.9650 - val_loss: 0.0734\n",
      "Epoch 40/50\n",
      "\u001b[1m175/175\u001b[0m \u001b[32m━━━━━━━━━━━━━━━━━━━━\u001b[0m\u001b[37m\u001b[0m \u001b[1m0s\u001b[0m 2ms/step - accuracy: 0.9687 - loss: 0.0888 - val_accuracy: 0.9650 - val_loss: 0.0738\n",
      "Epoch 41/50\n",
      "\u001b[1m175/175\u001b[0m \u001b[32m━━━━━━━━━━━━━━━━━━━━\u001b[0m\u001b[37m\u001b[0m \u001b[1m0s\u001b[0m 2ms/step - accuracy: 0.9657 - loss: 0.0898 - val_accuracy: 0.9650 - val_loss: 0.0735\n",
      "Epoch 42/50\n",
      "\u001b[1m175/175\u001b[0m \u001b[32m━━━━━━━━━━━━━━━━━━━━\u001b[0m\u001b[37m\u001b[0m \u001b[1m0s\u001b[0m 2ms/step - accuracy: 0.9673 - loss: 0.0883 - val_accuracy: 0.9650 - val_loss: 0.0740\n",
      "Epoch 43/50\n",
      "\u001b[1m175/175\u001b[0m \u001b[32m━━━━━━━━━━━━━━━━━━━━\u001b[0m\u001b[37m\u001b[0m \u001b[1m0s\u001b[0m 2ms/step - accuracy: 0.9645 - loss: 0.0945 - val_accuracy: 0.9650 - val_loss: 0.0733\n",
      "Epoch 44/50\n",
      "\u001b[1m175/175\u001b[0m \u001b[32m━━━━━━━━━━━━━━━━━━━━\u001b[0m\u001b[37m\u001b[0m \u001b[1m0s\u001b[0m 2ms/step - accuracy: 0.9716 - loss: 0.0816 - val_accuracy: 0.9650 - val_loss: 0.0737\n",
      "Epoch 45/50\n",
      "\u001b[1m175/175\u001b[0m \u001b[32m━━━━━━━━━━━━━━━━━━━━\u001b[0m\u001b[37m\u001b[0m \u001b[1m0s\u001b[0m 2ms/step - accuracy: 0.9669 - loss: 0.0869 - val_accuracy: 0.9650 - val_loss: 0.0734\n",
      "Epoch 46/50\n",
      "\u001b[1m175/175\u001b[0m \u001b[32m━━━━━━━━━━━━━━━━━━━━\u001b[0m\u001b[37m\u001b[0m \u001b[1m0s\u001b[0m 2ms/step - accuracy: 0.9645 - loss: 0.0897 - val_accuracy: 0.9650 - val_loss: 0.0735\n",
      "Epoch 47/50\n",
      "\u001b[1m175/175\u001b[0m \u001b[32m━━━━━━━━━━━━━━━━━━━━\u001b[0m\u001b[37m\u001b[0m \u001b[1m0s\u001b[0m 2ms/step - accuracy: 0.9699 - loss: 0.0871 - val_accuracy: 0.9650 - val_loss: 0.0728\n",
      "Epoch 48/50\n",
      "\u001b[1m175/175\u001b[0m \u001b[32m━━━━━━━━━━━━━━━━━━━━\u001b[0m\u001b[37m\u001b[0m \u001b[1m0s\u001b[0m 2ms/step - accuracy: 0.9628 - loss: 0.0964 - val_accuracy: 0.9650 - val_loss: 0.0726\n",
      "Epoch 49/50\n",
      "\u001b[1m175/175\u001b[0m \u001b[32m━━━━━━━━━━━━━━━━━━━━\u001b[0m\u001b[37m\u001b[0m \u001b[1m0s\u001b[0m 2ms/step - accuracy: 0.9686 - loss: 0.0866 - val_accuracy: 0.9650 - val_loss: 0.0729\n",
      "Epoch 50/50\n",
      "\u001b[1m175/175\u001b[0m \u001b[32m━━━━━━━━━━━━━━━━━━━━\u001b[0m\u001b[37m\u001b[0m \u001b[1m0s\u001b[0m 2ms/step - accuracy: 0.9672 - loss: 0.0817 - val_accuracy: 0.9650 - val_loss: 0.0728\n"
     ]
    }
   ],
   "source": [
    "def NN_model(input_dim=1, num_classes=1):\n",
    "    inputs = layers.Input(shape=input_dim)\n",
    "\n",
    "    x = layers.Dense(10, activation='relu')(inputs)\n",
    "    x = layers.Dropout(0.3)(x)\n",
    "    outputs = layers.Dense(num_classes, activation='sigmoid')(x)\n",
    "\n",
    "    model = Model(inputs=inputs, outputs=outputs)\n",
    "    return model\n",
    "\n",
    "model = NN_model(input_dim=(X_train.shape[1],))\n",
    "\n",
    "# Compile model\n",
    "model.compile(\n",
    "    optimizer='adam',\n",
    "    loss='binary_crossentropy',\n",
    "    metrics=['accuracy']\n",
    ")\n",
    "\n",
    "# Train model\n",
    "history = model.fit(\n",
    "    X_train, y_train,\n",
    "    epochs=50,\n",
    "    batch_size=32,\n",
    "    validation_split=0.2,\n",
    "    verbose=1\n",
    ")"
   ]
  },
  {
   "cell_type": "code",
   "execution_count": 11,
   "id": "babae21a",
   "metadata": {},
   "outputs": [
    {
     "data": {
      "image/png": "[encoded data removed]",
      "text/plain": [
       "<Figure size 640x480 with 1 Axes>"
      ]
     },
     "metadata": {},
     "output_type": "display_data"
    },
    {
     "data": {
      "image/png": "[encoded data removed]",
      "text/plain": [
       "<Figure size 640x480 with 1 Axes>"
      ]
     },
     "metadata": {},
     "output_type": "display_data"
    }
   ],
   "source": [
    "plt.plot(history.history['loss'])\n",
    "plt.plot(history.history['val_loss'])\n",
    "plt.ylabel('Loss')\n",
    "plt.xlabel('Epoch')\n",
    "plt.legend(['loss', 'val_loss'], loc='upper right')\n",
    "plt.show();\n",
    "\n",
    "plt.plot(history.history['accuracy'])\n",
    "plt.plot(history.history['val_accuracy'])\n",
    "plt.ylabel('Accuracy')\n",
    "plt.xlabel('Epoch')\n",
    "plt.legend(['accuracy', 'val_accuracy'], loc='upper right')\n",
    "plt.show();"
   ]
  },
  {
   "cell_type": "code",
   "execution_count": 12,
   "id": "044658b1",
   "metadata": {},
   "outputs": [
    {
     "name": "stdout",
     "output_type": "stream",
     "text": [
      "\u001b[1m94/94\u001b[0m \u001b[32m━━━━━━━━━━━━━━━━━━━━\u001b[0m\u001b[37m\u001b[0m \u001b[1m0s\u001b[0m 924us/step\n"
     ]
    },
    {
     "data": {
      "text/plain": [
       "0.9686666666666667"
      ]
     },
     "execution_count": 12,
     "metadata": {},
     "output_type": "execute_result"
    }
   ],
   "source": [
    "# Neural network prediction\n",
    "nn_preds = model.predict(X_test)\n",
    "nn_preds_labels = (nn_preds.flatten() > 0.5).astype(int)\n",
    "\n",
    "# Neural network accuracy\n",
    "acc = accuracy_score(y_test, nn_preds_labels)\n",
    "acc"
   ]
  },
  {
   "cell_type": "code",
   "execution_count": 13,
   "id": "de5e5be6",
   "metadata": {},
   "outputs": [
    {
     "data": {
      "text/plain": [
       "0.9736666666666667"
      ]
     },
     "execution_count": 13,
     "metadata": {},
     "output_type": "execute_result"
    }
   ],
   "source": [
    "# Logistic Regression model\n",
    "log_reg = LogisticRegression()\n",
    "log_reg.fit(X_train, y_train)\n",
    "\n",
    "# Predict and evaluate\n",
    "y_pred_logreg = log_reg.predict(X_test)\n",
    "acc = accuracy_score(y_test, y_pred_logreg)\n",
    "acc"
   ]
  },
  {
   "cell_type": "markdown",
   "id": "26301b9d",
   "metadata": {},
   "source": [
    "### Exercise 3\n",
    "From your collection of personal photographs, pick 10 images of animals (such as dogs, cats, birds, farm animals, etc.). If the subject does not occupy a reasonable part of the image, then crop the image. Now use a pretrained image classification CNN as in the lab to predict the class of each of your images, and report the probabilities for the top five predicted classes for each image."
   ]
  },
  {
   "cell_type": "code",
   "execution_count": 14,
   "id": "8eb1320b",
   "metadata": {},
   "outputs": [],
   "source": [
    "(x_train, y_train), (x_test, y_test) = cifar10.load_data()"
   ]
  },
  {
   "cell_type": "code",
   "execution_count": null,
   "id": "7e55ad5b",
   "metadata": {},
   "outputs": [],
   "source": [
    "y_train = y_train.flatten()  # Make labels 1D for easier handling\n",
    "\n",
    "label_map = {\n",
    "    0: 'airplane',\n",
    "    1: 'automobile',\n",
    "    2: 'bird',\n",
    "    3: 'cat',\n",
    "    4: 'deer',\n",
    "    5: 'dog',\n",
    "    6: 'frog',\n",
    "    7: 'horse',\n",
    "    8: 'ship',\n",
    "    9: 'truck'\n",
    "}\n",
    "\n",
    "# 5 animal classes that we want. It's just easier to use CIFAR-10 than use my own dataset as I don't have any pictures of animals and pictuers are all different online.\n",
    "target_classes = ['bird', 'cat', 'deer', 'dog', 'frog']\n",
    "\n",
    "selected_images = []\n",
    "selected_labels = []\n",
    "counts = {cls: 0 for cls in target_classes}\n",
    "\n",
    "# Collect images that match the 5 animal classes\n",
    "for img, label in zip(x_train, y_train):\n",
    "    class_name = label_map[label]\n",
    "    if class_name in target_classes and counts[class_name] < 2:\n",
    "        selected_images.append(img)\n",
    "        selected_labels.append(class_name)\n",
    "        counts[class_name] += 1\n",
    "    if all(count == 2 for count in counts.values()):\n",
    "        break"
   ]
  },
  {
   "cell_type": "markdown",
   "id": "d6b86fd8",
   "metadata": {},
   "source": [
    "# Top 5 predicted classes\n",
    "I utilized MobileNetv2 as my pre-trained model because it's a lighter model than for example ResNet50. Also, I wanted to utilize more than 10 images, so I just used the CIFAR-10 package."
   ]
  },
  {
   "cell_type": "code",
   "execution_count": 34,
   "id": "6a222394",
   "metadata": {},
   "outputs": [
    {
     "name": "stdout",
     "output_type": "stream",
     "text": [
      "Downloading data from https://storage.googleapis.com/tensorflow/keras-applications/mobilenet_v2/mobilenet_v2_weights_tf_dim_ordering_tf_kernels_1.0_224.h5\n",
      "\u001b[1m14536120/14536120\u001b[0m \u001b[32m━━━━━━━━━━━━━━━━━━━━\u001b[0m\u001b[37m\u001b[0m \u001b[1m1s\u001b[0m 0us/step\n",
      "\u001b[1m1/1\u001b[0m \u001b[32m━━━━━━━━━━━━━━━━━━━━\u001b[0m\u001b[37m\u001b[0m \u001b[1m4s\u001b[0m 4s/step\n",
      "Downloading data from https://storage.googleapis.com/download.tensorflow.org/data/imagenet_class_index.json\n",
      "\u001b[1m35363/35363\u001b[0m \u001b[32m━━━━━━━━━━━━━━━━━━━━\u001b[0m\u001b[37m\u001b[0m \u001b[1m0s\u001b[0m 0us/step\n",
      "\n",
      "Original label: frog\n",
      "Top 1: gong (0.0709)\n",
      "Top 2: English_foxhound (0.0605)\n",
      "Top 3: milk_can (0.0506)\n",
      "Top 4: Walker_hound (0.0482)\n",
      "Top 5: redbone (0.0360)\n",
      "\n",
      "Original label: deer\n",
      "Top 1: Indian_elephant (0.2784)\n",
      "Top 2: tusker (0.1897)\n",
      "Top 3: African_elephant (0.0350)\n",
      "Top 4: king_penguin (0.0239)\n",
      "Top 5: brown_bear (0.0205)\n",
      "\n",
      "Original label: bird\n",
      "Top 1: chimpanzee (0.0779)\n",
      "Top 2: curly-coated_retriever (0.0681)\n",
      "Top 3: guenon (0.0658)\n",
      "Top 4: Indian_elephant (0.0647)\n",
      "Top 5: sloth_bear (0.0415)\n",
      "\n",
      "Original label: cat\n",
      "Top 1: milk_can (0.0795)\n",
      "Top 2: abaya (0.0584)\n",
      "Top 3: ox (0.0363)\n",
      "Top 4: punching_bag (0.0361)\n",
      "Top 5: sloth_bear (0.0186)\n",
      "\n",
      "Original label: deer\n",
      "Top 1: tusker (0.0874)\n",
      "Top 2: Indian_elephant (0.0587)\n",
      "Top 3: brown_bear (0.0558)\n",
      "Top 4: African_elephant (0.0438)\n",
      "Top 5: honeycomb (0.0226)\n",
      "\n",
      "Original label: bird\n",
      "Top 1: milk_can (0.2025)\n",
      "Top 2: space_shuttle (0.0930)\n",
      "Top 3: revolver (0.0255)\n",
      "Top 4: screen (0.0224)\n",
      "Top 5: oil_filter (0.0183)\n",
      "\n",
      "Original label: cat\n",
      "Top 1: gong (0.2354)\n",
      "Top 2: milk_can (0.0698)\n",
      "Top 3: dugong (0.0405)\n",
      "Top 4: whiskey_jug (0.0250)\n",
      "Top 5: car_mirror (0.0231)\n",
      "\n",
      "Original label: frog\n",
      "Top 1: maraca (0.0946)\n",
      "Top 2: croquet_ball (0.0870)\n",
      "Top 3: Granny_Smith (0.0626)\n",
      "Top 4: bell_pepper (0.0625)\n",
      "Top 5: acorn (0.0459)\n",
      "\n",
      "Original label: dog\n",
      "Top 1: velvet (0.0754)\n",
      "Top 2: Windsor_tie (0.0482)\n",
      "Top 3: fox_squirrel (0.0304)\n",
      "Top 4: baboon (0.0283)\n",
      "Top 5: colobus (0.0210)\n",
      "\n",
      "Original label: dog\n",
      "Top 1: patas (0.2635)\n",
      "Top 2: langur (0.1095)\n",
      "Top 3: Pomeranian (0.1072)\n",
      "Top 4: keeshond (0.0473)\n",
      "Top 5: baboon (0.0178)\n"
     ]
    }
   ],
   "source": [
    "def preprocess_image(image):\n",
    "    # Center crop 24x24 and then resize to 224x224. This is needed for MobileNetv2 size as it was trained on 224x224\n",
    "    cropped = tf.image.central_crop(image, central_fraction=0.7)\n",
    "    resized = tf.image.resize(cropped, (224, 224))\n",
    "    return resized\n",
    "\n",
    "# Preprocess all images\n",
    "preprocessed_images = [preprocess_image(img) for img in selected_images]\n",
    "preprocessed_images = tf.stack(preprocessed_images)\n",
    "preprocessed_images = tf.keras.applications.mobilenet_v2.preprocess_input(preprocessed_images)\n",
    "\n",
    "# load mobilenet (it's a lighter model than ResNet for example) and predict\n",
    "model = tf.keras.applications.MobileNetV2(weights='imagenet')\n",
    "predictions = model.predict(preprocessed_images)\n",
    "decoded_predictions = tf.keras.applications.mobilenet_v2.decode_predictions(predictions, top=5)\n",
    "\n",
    "# Print top-5 results\n",
    "for idx, (label, pred) in enumerate(zip(selected_labels, decoded_predictions)):\n",
    "    print(f\"\\nOriginal label: {label}\")\n",
    "    for rank, (imagenet_id, class_name, prob) in enumerate(pred, start=1):\n",
    "        print(f\"Top {rank}: {class_name} ({prob:.4f})\")"
   ]
  },
  {
   "cell_type": "code",
   "execution_count": null,
   "id": "087f71ac",
   "metadata": {},
   "outputs": [],
   "source": []
  }
 ],
 "metadata": {
  "kernelspec": {
   "display_name": "Python 3",
   "language": "python",
   "name": "python3"
  },
  "language_info": {
   "codemirror_mode": {
    "name": "ipython",
    "version": 3
   },
   "file_extension": ".py",
   "mimetype": "text/x-python",
   "name": "python",
   "nbconvert_exporter": "python",
   "pygments_lexer": "ipython3",
   "version": "3.12.6"
  }
 },
 "nbformat": 4,
 "nbformat_minor": 5
}
