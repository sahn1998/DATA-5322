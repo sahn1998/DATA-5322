{
 "cells": [
  {
   "cell_type": "markdown",
   "id": "fd112896",
   "metadata": {},
   "source": [
    "# Major Question: How much does parental behaviors/impact result in Youth's usage of substances\n",
    "For the multi-classification, I wanted to ask how much parental behaviors impact Youth's behavior in the frequency of alcohol consumption.\n",
    "For this, I utilized the below sets of data.\n",
    "\n",
    "#### Target\n",
    "- 'ALCYDAYS': This lets use know the days used alcohol in the past year\n",
    "    - 1 = 1-11 Day\n",
    "    - 2 = 12-49 Days\n",
    "    - 3 = 50-99 Days\n",
    "    - 4 = 100-299 Days\n",
    "    - 5 = 300-365 Days\n",
    "    - 6 = Non User or No Past Year Use\n",
    "\n",
    "#### Features\n",
    "- 'PARCHKHW': 'ParentChecksHomework',\n",
    "- 'PARHLPHW': 'ParentHelpsHomework',\n",
    "- 'PRCHORE2': 'ParentAssignsChores',\n",
    "- 'PRLMTTV2': 'ParentLimitsTV',\n",
    "- 'PARLMTSN': 'ParentLimitsSchoolNightOutings',\n",
    "- 'PRGDJOB2': 'ParentGivesPraise',\n",
    "- 'PRPROUD2': 'ParentExpressesPride',\n",
    "- 'ARGUPAR': 'FrequentArgumentsWithParent',\n",
    "- 'PRPKCIG2': 'ParentOpinionCigarettes',\n",
    "- 'PRMJEVR2': 'ParentOpinionMarijuana',\n",
    "- 'PRALDLY2': 'ParentOpinionAlcoholDaily'"
   ]
  },
  {
   "cell_type": "markdown",
   "id": "06130ab5",
   "metadata": {},
   "source": [
    "# Imports\n"
   ]
  },
  {
   "cell_type": "code",
   "execution_count": 19,
   "id": "ca34f430",
   "metadata": {},
   "outputs": [],
   "source": [
    "import pandas as pd\n",
    "\n",
    "from sklearn.model_selection import train_test_split\n",
    "from sklearn.ensemble import RandomForestClassifier\n",
    "from sklearn.model_selection import GridSearchCV\n",
    "\n",
    "import xgboost as xgb\n",
    "\n",
    "from sklearn.metrics import confusion_matrix, classification_report"
   ]
  },
  {
   "cell_type": "code",
   "execution_count": 14,
   "id": "51ce5810",
   "metadata": {},
   "outputs": [
    {
     "data": {
      "application/vnd.microsoft.datawrangler.viewer.v0+json": {
       "columns": [
        {
         "name": "index",
         "rawType": "int64",
         "type": "integer"
        },
        {
         "name": "IRALCFY",
         "rawType": "int64",
         "type": "integer"
        },
        {
         "name": "IRMJFY",
         "rawType": "int64",
         "type": "integer"
        },
        {
         "name": "IRCIGFM",
         "rawType": "float64",
         "type": "float"
        },
        {
         "name": "IRSMKLSS30N",
         "rawType": "int64",
         "type": "integer"
        },
        {
         "name": "IRALCFM",
         "rawType": "float64",
         "type": "float"
        },
        {
         "name": "IRMJFM",
         "rawType": "float64",
         "type": "float"
        },
        {
         "name": "IRCIGAGE",
         "rawType": "int64",
         "type": "integer"
        },
        {
         "name": "IRSMKLSSTRY",
         "rawType": "int64",
         "type": "integer"
        },
        {
         "name": "IRALCAGE",
         "rawType": "int64",
         "type": "integer"
        },
        {
         "name": "IRMJAGE",
         "rawType": "int64",
         "type": "integer"
        },
        {
         "name": "MRJFLAG",
         "rawType": "int64",
         "type": "integer"
        },
        {
         "name": "ALCFLAG",
         "rawType": "int64",
         "type": "integer"
        },
        {
         "name": "TOBFLAG",
         "rawType": "int64",
         "type": "integer"
        },
        {
         "name": "ALCYDAYS",
         "rawType": "int64",
         "type": "integer"
        },
        {
         "name": "MRJYDAYS",
         "rawType": "int64",
         "type": "integer"
        },
        {
         "name": "ALCMDAYS",
         "rawType": "int64",
         "type": "integer"
        },
        {
         "name": "MRJMDAYS",
         "rawType": "int64",
         "type": "integer"
        },
        {
         "name": "CIGMDAYS",
         "rawType": "int64",
         "type": "integer"
        },
        {
         "name": "SMKLSMDAYS",
         "rawType": "int64",
         "type": "integer"
        },
        {
         "name": "SCHFELT",
         "rawType": "int64",
         "type": "integer"
        },
        {
         "name": "TCHGJOB",
         "rawType": "float64",
         "type": "float"
        },
        {
         "name": "AVGGRADE",
         "rawType": "float64",
         "type": "float"
        },
        {
         "name": "STNDSCIG",
         "rawType": "float64",
         "type": "float"
        },
        {
         "name": "STNDSMJ",
         "rawType": "float64",
         "type": "float"
        },
        {
         "name": "STNDALC",
         "rawType": "float64",
         "type": "float"
        },
        {
         "name": "STNDDNK",
         "rawType": "float64",
         "type": "float"
        },
        {
         "name": "PARCHKHW",
         "rawType": "float64",
         "type": "float"
        },
        {
         "name": "PARHLPHW",
         "rawType": "float64",
         "type": "float"
        },
        {
         "name": "PRCHORE2",
         "rawType": "float64",
         "type": "float"
        },
        {
         "name": "PRLMTTV2",
         "rawType": "float64",
         "type": "float"
        },
        {
         "name": "PARLMTSN",
         "rawType": "float64",
         "type": "float"
        },
        {
         "name": "PRGDJOB2",
         "rawType": "float64",
         "type": "float"
        },
        {
         "name": "PRPROUD2",
         "rawType": "float64",
         "type": "float"
        },
        {
         "name": "ARGUPAR",
         "rawType": "float64",
         "type": "float"
        },
        {
         "name": "YOFIGHT2",
         "rawType": "float64",
         "type": "float"
        },
        {
         "name": "YOGRPFT2",
         "rawType": "float64",
         "type": "float"
        },
        {
         "name": "YOHGUN2",
         "rawType": "float64",
         "type": "float"
        },
        {
         "name": "YOSELL2",
         "rawType": "float64",
         "type": "float"
        },
        {
         "name": "YOSTOLE2",
         "rawType": "float64",
         "type": "float"
        },
        {
         "name": "YOATTAK2",
         "rawType": "float64",
         "type": "float"
        },
        {
         "name": "PRPKCIG2",
         "rawType": "float64",
         "type": "float"
        },
        {
         "name": "PRMJEVR2",
         "rawType": "float64",
         "type": "float"
        },
        {
         "name": "PRMJMO",
         "rawType": "float64",
         "type": "float"
        },
        {
         "name": "PRALDLY2",
         "rawType": "float64",
         "type": "float"
        },
        {
         "name": "YFLPKCG2",
         "rawType": "float64",
         "type": "float"
        },
        {
         "name": "YFLTMRJ2",
         "rawType": "float64",
         "type": "float"
        },
        {
         "name": "YFLMJMO",
         "rawType": "float64",
         "type": "float"
        },
        {
         "name": "YFLADLY2",
         "rawType": "float64",
         "type": "float"
        },
        {
         "name": "FRDPCIG2",
         "rawType": "float64",
         "type": "float"
        },
        {
         "name": "FRDMEVR2",
         "rawType": "float64",
         "type": "float"
        },
        {
         "name": "FRDMJMON",
         "rawType": "float64",
         "type": "float"
        },
        {
         "name": "FRDADLY2",
         "rawType": "float64",
         "type": "float"
        },
        {
         "name": "TALKPROB",
         "rawType": "float64",
         "type": "float"
        },
        {
         "name": "PRTALK3",
         "rawType": "float64",
         "type": "float"
        },
        {
         "name": "PRBSOLV2",
         "rawType": "float64",
         "type": "float"
        },
        {
         "name": "PREVIOL2",
         "rawType": "float64",
         "type": "float"
        },
        {
         "name": "PRVDRGO2",
         "rawType": "float64",
         "type": "float"
        },
        {
         "name": "GRPCNSL2",
         "rawType": "float64",
         "type": "float"
        },
        {
         "name": "PREGPGM2",
         "rawType": "float64",
         "type": "float"
        },
        {
         "name": "YTHACT2",
         "rawType": "float64",
         "type": "float"
        },
        {
         "name": "DRPRVME3",
         "rawType": "float64",
         "type": "float"
        },
        {
         "name": "ANYEDUC3",
         "rawType": "float64",
         "type": "float"
        },
        {
         "name": "RLGATTD",
         "rawType": "float64",
         "type": "float"
        },
        {
         "name": "RLGIMPT",
         "rawType": "float64",
         "type": "float"
        },
        {
         "name": "RLGDCSN",
         "rawType": "float64",
         "type": "float"
        },
        {
         "name": "RLGFRND",
         "rawType": "float64",
         "type": "float"
        },
        {
         "name": "IRSEX",
         "rawType": "int64",
         "type": "integer"
        },
        {
         "name": "NEWRACE2",
         "rawType": "int64",
         "type": "integer"
        },
        {
         "name": "HEALTH2",
         "rawType": "float64",
         "type": "float"
        },
        {
         "name": "EDUSCHLGO",
         "rawType": "int64",
         "type": "integer"
        },
        {
         "name": "EDUSCHGRD2",
         "rawType": "int64",
         "type": "integer"
        },
        {
         "name": "EDUSKPCOM",
         "rawType": "int64",
         "type": "integer"
        },
        {
         "name": "IMOTHER",
         "rawType": "int64",
         "type": "integer"
        },
        {
         "name": "IFATHER",
         "rawType": "int64",
         "type": "integer"
        },
        {
         "name": "INCOME",
         "rawType": "int64",
         "type": "integer"
        },
        {
         "name": "GOVTPROG",
         "rawType": "int64",
         "type": "integer"
        },
        {
         "name": "POVERTY3",
         "rawType": "int64",
         "type": "integer"
        },
        {
         "name": "PDEN10",
         "rawType": "int64",
         "type": "integer"
        },
        {
         "name": "COUTYP4",
         "rawType": "int64",
         "type": "integer"
        }
       ],
       "conversionMethod": "pd.DataFrame",
       "ref": "4d56af68-4ba7-493a-b10a-f90fb0cf9c7b",
       "rows": [
        [
         "0",
         "991",
         "991",
         "91.0",
         "91",
         "91.0",
         "91.0",
         "991",
         "991",
         "991",
         "991",
         "0",
         "0",
         "0",
         "6",
         "6",
         "5",
         "5",
         "6",
         "5",
         "1",
         "1.0",
         "2.0",
         "2.0",
         "2.0",
         "2.0",
         "2.0",
         "1.0",
         "1.0",
         "1.0",
         "2.0",
         "1.0",
         "1.0",
         "1.0",
         "1.0",
         "2.0",
         "2.0",
         "2.0",
         "2.0",
         "2.0",
         "2.0",
         "1.0",
         "1.0",
         "1.0",
         "1.0",
         "1.0",
         "1.0",
         "1.0",
         "1.0",
         "1.0",
         "1.0",
         "1.0",
         "1.0",
         "2.0",
         "1.0",
         "1.0",
         "1.0",
         "2.0",
         "2.0",
         "2.0",
         "2.0",
         "1.0",
         "1.0",
         "2.0",
         "1.0",
         "1.0",
         "1.0",
         "1",
         "7",
         "3.0",
         "1",
         "3",
         "0",
         "1",
         "1",
         "2",
         "2",
         "1",
         "2",
         "2"
        ],
        [
         "1",
         "991",
         "60",
         "91.0",
         "91",
         "91.0",
         "2.0",
         "991",
         "991",
         "991",
         "14",
         "1",
         "0",
         "0",
         "6",
         "3",
         "5",
         "1",
         "6",
         "5",
         "2",
         "1.0",
         "2.0",
         "1.0",
         "1.0",
         "1.0",
         "1.0",
         "1.0",
         "1.0",
         "2.0",
         "2.0",
         "1.0",
         "1.0",
         "1.0",
         "1.0",
         "2.0",
         "2.0",
         "2.0",
         "2.0",
         "2.0",
         "2.0",
         "1.0",
         "2.0",
         "2.0",
         "1.0",
         "1.0",
         "1.0",
         "2.0",
         "1.0",
         "2.0",
         "2.0",
         "2.0",
         "2.0",
         "2.0",
         "1.0",
         "2.0",
         "2.0",
         "2.0",
         "2.0",
         "2.0",
         "1.0",
         "2.0",
         "1.0",
         "2.0",
         "2.0",
         "2.0",
         "2.0",
         "2",
         "1",
         "4.0",
         "1",
         "6",
         "0",
         "1",
         "1",
         "2",
         "2",
         "1",
         "2",
         "2"
        ],
        [
         "2",
         "1",
         "991",
         "91.0",
         "91",
         "93.0",
         "91.0",
         "991",
         "991",
         "11",
         "991",
         "0",
         "1",
         "0",
         "1",
         "6",
         "5",
         "5",
         "6",
         "5",
         "1",
         "1.0",
         "2.0",
         "2.0",
         "2.0",
         "2.0",
         "2.0",
         "1.0",
         "1.0",
         "1.0",
         "1.0",
         "1.0",
         "2.0",
         "1.0",
         "1.0",
         "1.0",
         "1.0",
         "2.0",
         "2.0",
         "2.0",
         "2.0",
         "1.0",
         "1.0",
         "1.0",
         "1.0",
         "1.0",
         "1.0",
         "1.0",
         "1.0",
         "1.0",
         "1.0",
         "1.0",
         "1.0",
         "2.0",
         "1.0",
         "2.0",
         "2.0",
         "2.0",
         "2.0",
         "2.0",
         "2.0",
         "1.0",
         "1.0",
         "2.0",
         "1.0",
         "1.0",
         "2.0",
         "1",
         "6",
         "1.0",
         "1",
         "2",
         "1",
         "1",
         "1",
         "4",
         "2",
         "3",
         "1",
         "1"
        ],
        [
         "3",
         "991",
         "991",
         "91.0",
         "91",
         "91.0",
         "91.0",
         "991",
         "991",
         "991",
         "991",
         "0",
         "0",
         "0",
         "6",
         "6",
         "5",
         "5",
         "6",
         "5",
         "2",
         "1.0",
         null,
         "2.0",
         "2.0",
         "2.0",
         "2.0",
         "1.0",
         "2.0",
         "2.0",
         "2.0",
         "2.0",
         "1.0",
         "1.0",
         "1.0",
         "2.0",
         "2.0",
         "2.0",
         "2.0",
         "2.0",
         "2.0",
         "1.0",
         "1.0",
         "1.0",
         "1.0",
         "1.0",
         "1.0",
         "1.0",
         "1.0",
         "1.0",
         "1.0",
         "1.0",
         "1.0",
         "1.0",
         "2.0",
         "2.0",
         "2.0",
         "2.0",
         "2.0",
         "2.0",
         "2.0",
         "2.0",
         "2.0",
         "2.0",
         "1.0",
         "1.0",
         "2.0",
         "2",
         "7",
         "2.0",
         "1",
         "2",
         "0",
         "1",
         "1",
         "3",
         "2",
         "2",
         "1",
         "1"
        ],
        [
         "4",
         "991",
         "991",
         "91.0",
         "91",
         "91.0",
         "91.0",
         "991",
         "991",
         "991",
         "991",
         "0",
         "0",
         "0",
         "6",
         "6",
         "5",
         "5",
         "6",
         "5",
         "1",
         "2.0",
         "2.0",
         "2.0",
         "2.0",
         "2.0",
         "2.0",
         "2.0",
         "1.0",
         "1.0",
         "2.0",
         "2.0",
         "1.0",
         "1.0",
         "2.0",
         "2.0",
         "2.0",
         "1.0",
         "2.0",
         "2.0",
         "2.0",
         "1.0",
         "2.0",
         "1.0",
         "1.0",
         "1.0",
         "1.0",
         "2.0",
         "2.0",
         "1.0",
         "1.0",
         "1.0",
         "1.0",
         "2.0",
         "2.0",
         "2.0",
         "2.0",
         "2.0",
         "2.0",
         "2.0",
         "2.0",
         "1.0",
         "1.0",
         "2.0",
         "2.0",
         "2.0",
         "2.0",
         "1",
         "1",
         "1.0",
         "1",
         "5",
         "0",
         "1",
         "1",
         "4",
         "2",
         "3",
         "2",
         "2"
        ]
       ],
       "shape": {
        "columns": 79,
        "rows": 5
       }
      },
      "text/html": [
       "<div>\n",
       "<style scoped>\n",
       "    .dataframe tbody tr th:only-of-type {\n",
       "        vertical-align: middle;\n",
       "    }\n",
       "\n",
       "    .dataframe tbody tr th {\n",
       "        vertical-align: top;\n",
       "    }\n",
       "\n",
       "    .dataframe thead th {\n",
       "        text-align: right;\n",
       "    }\n",
       "</style>\n",
       "<table border=\"1\" class=\"dataframe\">\n",
       "  <thead>\n",
       "    <tr style=\"text-align: right;\">\n",
       "      <th></th>\n",
       "      <th>IRALCFY</th>\n",
       "      <th>IRMJFY</th>\n",
       "      <th>IRCIGFM</th>\n",
       "      <th>IRSMKLSS30N</th>\n",
       "      <th>IRALCFM</th>\n",
       "      <th>IRMJFM</th>\n",
       "      <th>IRCIGAGE</th>\n",
       "      <th>IRSMKLSSTRY</th>\n",
       "      <th>IRALCAGE</th>\n",
       "      <th>IRMJAGE</th>\n",
       "      <th>...</th>\n",
       "      <th>EDUSCHLGO</th>\n",
       "      <th>EDUSCHGRD2</th>\n",
       "      <th>EDUSKPCOM</th>\n",
       "      <th>IMOTHER</th>\n",
       "      <th>IFATHER</th>\n",
       "      <th>INCOME</th>\n",
       "      <th>GOVTPROG</th>\n",
       "      <th>POVERTY3</th>\n",
       "      <th>PDEN10</th>\n",
       "      <th>COUTYP4</th>\n",
       "    </tr>\n",
       "  </thead>\n",
       "  <tbody>\n",
       "    <tr>\n",
       "      <th>0</th>\n",
       "      <td>991</td>\n",
       "      <td>991</td>\n",
       "      <td>91.0</td>\n",
       "      <td>91</td>\n",
       "      <td>91.0</td>\n",
       "      <td>91.0</td>\n",
       "      <td>991</td>\n",
       "      <td>991</td>\n",
       "      <td>991</td>\n",
       "      <td>991</td>\n",
       "      <td>...</td>\n",
       "      <td>1</td>\n",
       "      <td>3</td>\n",
       "      <td>0</td>\n",
       "      <td>1</td>\n",
       "      <td>1</td>\n",
       "      <td>2</td>\n",
       "      <td>2</td>\n",
       "      <td>1</td>\n",
       "      <td>2</td>\n",
       "      <td>2</td>\n",
       "    </tr>\n",
       "    <tr>\n",
       "      <th>1</th>\n",
       "      <td>991</td>\n",
       "      <td>60</td>\n",
       "      <td>91.0</td>\n",
       "      <td>91</td>\n",
       "      <td>91.0</td>\n",
       "      <td>2.0</td>\n",
       "      <td>991</td>\n",
       "      <td>991</td>\n",
       "      <td>991</td>\n",
       "      <td>14</td>\n",
       "      <td>...</td>\n",
       "      <td>1</td>\n",
       "      <td>6</td>\n",
       "      <td>0</td>\n",
       "      <td>1</td>\n",
       "      <td>1</td>\n",
       "      <td>2</td>\n",
       "      <td>2</td>\n",
       "      <td>1</td>\n",
       "      <td>2</td>\n",
       "      <td>2</td>\n",
       "    </tr>\n",
       "    <tr>\n",
       "      <th>2</th>\n",
       "      <td>1</td>\n",
       "      <td>991</td>\n",
       "      <td>91.0</td>\n",
       "      <td>91</td>\n",
       "      <td>93.0</td>\n",
       "      <td>91.0</td>\n",
       "      <td>991</td>\n",
       "      <td>991</td>\n",
       "      <td>11</td>\n",
       "      <td>991</td>\n",
       "      <td>...</td>\n",
       "      <td>1</td>\n",
       "      <td>2</td>\n",
       "      <td>1</td>\n",
       "      <td>1</td>\n",
       "      <td>1</td>\n",
       "      <td>4</td>\n",
       "      <td>2</td>\n",
       "      <td>3</td>\n",
       "      <td>1</td>\n",
       "      <td>1</td>\n",
       "    </tr>\n",
       "    <tr>\n",
       "      <th>3</th>\n",
       "      <td>991</td>\n",
       "      <td>991</td>\n",
       "      <td>91.0</td>\n",
       "      <td>91</td>\n",
       "      <td>91.0</td>\n",
       "      <td>91.0</td>\n",
       "      <td>991</td>\n",
       "      <td>991</td>\n",
       "      <td>991</td>\n",
       "      <td>991</td>\n",
       "      <td>...</td>\n",
       "      <td>1</td>\n",
       "      <td>2</td>\n",
       "      <td>0</td>\n",
       "      <td>1</td>\n",
       "      <td>1</td>\n",
       "      <td>3</td>\n",
       "      <td>2</td>\n",
       "      <td>2</td>\n",
       "      <td>1</td>\n",
       "      <td>1</td>\n",
       "    </tr>\n",
       "    <tr>\n",
       "      <th>4</th>\n",
       "      <td>991</td>\n",
       "      <td>991</td>\n",
       "      <td>91.0</td>\n",
       "      <td>91</td>\n",
       "      <td>91.0</td>\n",
       "      <td>91.0</td>\n",
       "      <td>991</td>\n",
       "      <td>991</td>\n",
       "      <td>991</td>\n",
       "      <td>991</td>\n",
       "      <td>...</td>\n",
       "      <td>1</td>\n",
       "      <td>5</td>\n",
       "      <td>0</td>\n",
       "      <td>1</td>\n",
       "      <td>1</td>\n",
       "      <td>4</td>\n",
       "      <td>2</td>\n",
       "      <td>3</td>\n",
       "      <td>2</td>\n",
       "      <td>2</td>\n",
       "    </tr>\n",
       "  </tbody>\n",
       "</table>\n",
       "<p>5 rows × 79 columns</p>\n",
       "</div>"
      ],
      "text/plain": [
       "   IRALCFY  IRMJFY  IRCIGFM  IRSMKLSS30N  IRALCFM  IRMJFM  IRCIGAGE  \\\n",
       "0      991     991     91.0           91     91.0    91.0       991   \n",
       "1      991      60     91.0           91     91.0     2.0       991   \n",
       "2        1     991     91.0           91     93.0    91.0       991   \n",
       "3      991     991     91.0           91     91.0    91.0       991   \n",
       "4      991     991     91.0           91     91.0    91.0       991   \n",
       "\n",
       "   IRSMKLSSTRY  IRALCAGE  IRMJAGE  ...  EDUSCHLGO  EDUSCHGRD2  EDUSKPCOM  \\\n",
       "0          991       991      991  ...          1           3          0   \n",
       "1          991       991       14  ...          1           6          0   \n",
       "2          991        11      991  ...          1           2          1   \n",
       "3          991       991      991  ...          1           2          0   \n",
       "4          991       991      991  ...          1           5          0   \n",
       "\n",
       "   IMOTHER  IFATHER  INCOME  GOVTPROG  POVERTY3  PDEN10  COUTYP4  \n",
       "0        1        1       2         2         1       2        2  \n",
       "1        1        1       2         2         1       2        2  \n",
       "2        1        1       4         2         3       1        1  \n",
       "3        1        1       3         2         2       1        1  \n",
       "4        1        1       4         2         3       2        2  \n",
       "\n",
       "[5 rows x 79 columns]"
      ]
     },
     "execution_count": 14,
     "metadata": {},
     "output_type": "execute_result"
    }
   ],
   "source": [
    "# Load the dataset\n",
    "df = pd.read_csv('../data/youth_data.csv')\n",
    "df.head()"
   ]
  },
  {
   "cell_type": "markdown",
   "id": "ddd6c64f",
   "metadata": {},
   "source": [
    "### 1. Random Forest"
   ]
  },
  {
   "cell_type": "code",
   "execution_count": 15,
   "id": "a5fa953e",
   "metadata": {},
   "outputs": [],
   "source": [
    "# Mappings\n",
    "target_mapping = {\n",
    "    'ALCYDAYS': 'DaysDrankAlcohol'\n",
    "}\n",
    "\n",
    "feature_mapping = {\n",
    "    'PARCHKHW': 'ParentChecksHomework',\n",
    "    'PARHLPHW': 'ParentHelpsHomework',\n",
    "    'PRCHORE2': 'ParentAssignsChores',\n",
    "    'PRLMTTV2': 'ParentLimitsTV',\n",
    "    'PARLMTSN': 'ParentLimitsSchoolNightOutings',\n",
    "    'PRGDJOB2': 'ParentGivesPraise',\n",
    "    'PRPROUD2': 'ParentExpressesPride',\n",
    "    'ARGUPAR': 'FrequentArgumentsWithParent',\n",
    "    'PRPKCIG2': 'ParentOpinionCigarettes',\n",
    "    'PRMJEVR2': 'ParentOpinionMarijuana',\n",
    "    'PRALDLY2': 'ParentOpinionAlcoholDaily'\n",
    "}\n",
    "\n",
    "# Combine all mappings\n",
    "column_mapping = {**target_mapping, **feature_mapping}\n",
    "selected_columns = list(column_mapping.keys())\n",
    "\n",
    "df_subset = df[selected_columns].rename(columns=column_mapping)\n",
    "\n",
    "X = df_subset.drop(columns='DaysDrankAlcohol')\n",
    "y = df_subset['DaysDrankAlcohol']\n",
    "\n",
    "X_train, X_test, y_train, y_test = train_test_split(X, y, test_size=0.3, random_state=42, stratify=y)"
   ]
  },
  {
   "cell_type": "code",
   "execution_count": 18,
   "id": "1139787c",
   "metadata": {},
   "outputs": [
    {
     "name": "stdout",
     "output_type": "stream",
     "text": [
      "Fitting 5 folds for each of 648 candidates, totalling 3240 fits\n"
     ]
    },
    {
     "name": "stderr",
     "output_type": "stream",
     "text": [
      "c:\\Users\\sahn1\\OneDrive\\Documentos\\2025 Spring Quarter\\DATA-5322\\venv\\Lib\\site-packages\\sklearn\\model_selection\\_split.py:805: UserWarning: The least populated class in y has only 4 members, which is less than n_splits=5.\n",
      "  warnings.warn(\n"
     ]
    },
    {
     "name": "stdout",
     "output_type": "stream",
     "text": [
      "Best Parameters: {'max_depth': None, 'max_features': None, 'min_samples_leaf': 1, 'min_samples_split': 5, 'n_estimators': 200}\n",
      "Classification Report:\n",
      "              precision    recall  f1-score   support\n",
      "\n",
      "           1       0.29      0.04      0.07       338\n",
      "           2       0.00      0.00      0.00       139\n",
      "           3       0.40      0.04      0.07        52\n",
      "           4       0.00      0.00      0.00        29\n",
      "           5       0.00      0.00      0.00         2\n",
      "           6       0.83      0.99      0.90      2609\n",
      "\n",
      "    accuracy                           0.82      3169\n",
      "   macro avg       0.25      0.18      0.17      3169\n",
      "weighted avg       0.72      0.82      0.75      3169\n",
      "\n"
     ]
    },
    {
     "name": "stderr",
     "output_type": "stream",
     "text": [
      "c:\\Users\\sahn1\\OneDrive\\Documentos\\2025 Spring Quarter\\DATA-5322\\venv\\Lib\\site-packages\\sklearn\\metrics\\_classification.py:1565: UndefinedMetricWarning: Precision is ill-defined and being set to 0.0 in labels with no predicted samples. Use `zero_division` parameter to control this behavior.\n",
      "  _warn_prf(average, modifier, f\"{metric.capitalize()} is\", len(result))\n",
      "c:\\Users\\sahn1\\OneDrive\\Documentos\\2025 Spring Quarter\\DATA-5322\\venv\\Lib\\site-packages\\sklearn\\metrics\\_classification.py:1565: UndefinedMetricWarning: Precision is ill-defined and being set to 0.0 in labels with no predicted samples. Use `zero_division` parameter to control this behavior.\n",
      "  _warn_prf(average, modifier, f\"{metric.capitalize()} is\", len(result))\n",
      "c:\\Users\\sahn1\\OneDrive\\Documentos\\2025 Spring Quarter\\DATA-5322\\venv\\Lib\\site-packages\\sklearn\\metrics\\_classification.py:1565: UndefinedMetricWarning: Precision is ill-defined and being set to 0.0 in labels with no predicted samples. Use `zero_division` parameter to control this behavior.\n",
      "  _warn_prf(average, modifier, f\"{metric.capitalize()} is\", len(result))\n"
     ]
    }
   ],
   "source": [
    "# Random Forest\n",
    "rf = RandomForestClassifier(random_state=42)\n",
    "\n",
    "# Parameter grid for tuning\n",
    "param_grid = {\n",
    "    'n_estimators': [50, 100, 200],\n",
    "    'max_depth': [4, 6, 8, None],\n",
    "    'min_samples_split': [2, 5, 10],\n",
    "    'min_samples_leaf': [1, 2, 4],\n",
    "    'max_features': ['sqrt', 'log2', None, 0.3, 0.5, 0.7]\n",
    "}\n",
    "\n",
    "grid_search = GridSearchCV(\n",
    "    estimator=rf,\n",
    "    param_grid=param_grid,\n",
    "    cv=5,\n",
    "    scoring='f1_weighted',\n",
    "    n_jobs=-1,\n",
    "    verbose=1\n",
    ")\n",
    "\n",
    "grid_search.fit(X_train, y_train)\n",
    "\n",
    "print(\"Best Parameters:\", grid_search.best_params_)\n",
    "best_rf = grid_search.best_estimator_\n",
    "\n",
    "y_pred_best = best_rf.predict(X_test)\n",
    "print(\"Classification Report:\")\n",
    "print(classification_report(y_test, y_pred_best))"
   ]
  },
  {
   "cell_type": "markdown",
   "id": "d7113a0b",
   "metadata": {},
   "source": [
    "## Brief Analysis\n",
    "Overall Accuracy: 82%\n",
    "\n",
    "Model is heavily biased toward class 6 (Non-users) as it dominatespredictions with:\n",
    "- Precision: 83%\n",
    "- Recall: 99%\n",
    "- F1-score: 90%\n",
    "\n",
    "All other classes (1 through 5, meaning any alcohol use) have very low precision and recall\n",
    "\n",
    "Probably due to the class imbalance. Way more youth are labeled as 6 (non-user) than other categories.\n",
    "That’s why the model \"plays it safe\" and predicts 6 almost every time. Terrible for real-world usefulness."
   ]
  },
  {
   "cell_type": "markdown",
   "id": "efa2373f",
   "metadata": {},
   "source": [
    "### 2. XGBoost"
   ]
  },
  {
   "cell_type": "code",
   "execution_count": 22,
   "id": "964d6666",
   "metadata": {},
   "outputs": [
    {
     "name": "stderr",
     "output_type": "stream",
     "text": [
      "c:\\Users\\sahn1\\OneDrive\\Documentos\\2025 Spring Quarter\\DATA-5322\\venv\\Lib\\site-packages\\xgboost\\training.py:183: UserWarning: [14:07:34] WARNING: C:\\actions-runner\\_work\\xgboost\\xgboost\\src\\learner.cc:738: \n",
      "Parameters: { \"use_label_encoder\" } are not used.\n",
      "\n",
      "  bst.update(dtrain, iteration=i, fobj=obj)\n"
     ]
    },
    {
     "name": "stdout",
     "output_type": "stream",
     "text": [
      "Confusion Matrix:\n",
      "[[   7    5    0    1    0  325]\n",
      " [   2    1    0    0    0  136]\n",
      " [   1    3    0    0    0   48]\n",
      " [   0    1    0    0    0   28]\n",
      " [   0    0    0    0    0    2]\n",
      " [  13    5    0    4    0 2587]]\n",
      "\n",
      "Classification Report:\n",
      "              precision    recall  f1-score   support\n",
      "\n",
      "           1       0.30      0.02      0.04       338\n",
      "           2       0.07      0.01      0.01       139\n",
      "           3       0.00      0.00      0.00        52\n",
      "           4       0.00      0.00      0.00        29\n",
      "           5       0.00      0.00      0.00         2\n",
      "           6       0.83      0.99      0.90      2609\n",
      "\n",
      "    accuracy                           0.82      3169\n",
      "   macro avg       0.20      0.17      0.16      3169\n",
      "weighted avg       0.72      0.82      0.75      3169\n",
      "\n"
     ]
    },
    {
     "name": "stderr",
     "output_type": "stream",
     "text": [
      "c:\\Users\\sahn1\\OneDrive\\Documentos\\2025 Spring Quarter\\DATA-5322\\venv\\Lib\\site-packages\\sklearn\\metrics\\_classification.py:1565: UndefinedMetricWarning: Precision is ill-defined and being set to 0.0 in labels with no predicted samples. Use `zero_division` parameter to control this behavior.\n",
      "  _warn_prf(average, modifier, f\"{metric.capitalize()} is\", len(result))\n",
      "c:\\Users\\sahn1\\OneDrive\\Documentos\\2025 Spring Quarter\\DATA-5322\\venv\\Lib\\site-packages\\sklearn\\metrics\\_classification.py:1565: UndefinedMetricWarning: Precision is ill-defined and being set to 0.0 in labels with no predicted samples. Use `zero_division` parameter to control this behavior.\n",
      "  _warn_prf(average, modifier, f\"{metric.capitalize()} is\", len(result))\n",
      "c:\\Users\\sahn1\\OneDrive\\Documentos\\2025 Spring Quarter\\DATA-5322\\venv\\Lib\\site-packages\\sklearn\\metrics\\_classification.py:1565: UndefinedMetricWarning: Precision is ill-defined and being set to 0.0 in labels with no predicted samples. Use `zero_division` parameter to control this behavior.\n",
      "  _warn_prf(average, modifier, f\"{metric.capitalize()} is\", len(result))\n"
     ]
    }
   ],
   "source": [
    "y_train_xgb = y_train - 1\n",
    "y_test_xgb = y_test - 1\n",
    "\n",
    "# Create the XGBoost classifier\n",
    "xgb_clf = xgb.XGBClassifier(\n",
    "    objective='multi:softmax',\n",
    "    num_class=6,                     # 6 classes (1–6)\n",
    "    eval_metric='mlogloss',\n",
    "    use_label_encoder=False,\n",
    "    n_estimators=200,\n",
    "    max_depth=6,\n",
    "    learning_rate=0.1,\n",
    "    random_state=42\n",
    ")\n",
    "\n",
    "# Train the model\n",
    "xgb_clf.fit(X_train, y_train_xgb)\n",
    "y_pred_xgb = xgb_clf.predict(X_test)\n",
    "y_pred_xgb_adjusted = y_pred_xgb + 1\n",
    "\n",
    "# Evaluate\n",
    "print(\"Confusion Matrix:\")\n",
    "print(confusion_matrix(y_test, y_pred_xgb_adjusted))\n",
    "\n",
    "print(\"\\nClassification Report:\")\n",
    "print(classification_report(y_test, y_pred_xgb_adjusted))"
   ]
  },
  {
   "cell_type": "markdown",
   "id": "6ef6c541",
   "metadata": {},
   "source": [
    "## Brief Analysis\n",
    "Overall Accuracy: 82%\n",
    "\n",
    "Model is heavily biased toward class 6 (Non-users) as it dominates predictions with:\n",
    "- Precision: 83%\n",
    "- Recall: 99%\n",
    "- F1-score: 90%\n",
    "\n",
    "All other classes (1 through 5, meaning any alcohol use) have very low precision and recall\n",
    "- Macro average F1 = 0.16.  \n",
    "\n",
    "The model is not learning meaningful distinctions across classes. As mentioned before, it's most likely due to the class imbalance."
   ]
  },
  {
   "cell_type": "code",
   "execution_count": null,
   "id": "08feb2ac",
   "metadata": {},
   "outputs": [],
   "source": []
  }
 ],
 "metadata": {
  "kernelspec": {
   "display_name": "venv",
   "language": "python",
   "name": "python3"
  },
  "language_info": {
   "codemirror_mode": {
    "name": "ipython",
    "version": 3
   },
   "file_extension": ".py",
   "mimetype": "text/x-python",
   "name": "python",
   "nbconvert_exporter": "python",
   "pygments_lexer": "ipython3",
   "version": "3.13.0"
  }
 },
 "nbformat": 4,
 "nbformat_minor": 5
}
