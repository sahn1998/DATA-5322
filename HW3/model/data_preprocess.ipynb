{
 "cells": [
  {
   "cell_type": "markdown",
   "id": "59fbac46",
   "metadata": {},
   "source": [
    "# Imports"
   ]
  },
  {
   "cell_type": "code",
   "execution_count": null,
   "id": "c0efb1ef",
   "metadata": {},
   "outputs": [],
   "source": [
    "import pandas as pd\n",
    "import numpy as np\n",
    "import matplotlib.pyplot as plt\n",
    "\n",
    "import h5py\n",
    "from pathlib import Path"
   ]
  },
  {
   "cell_type": "markdown",
   "id": "8eafc8f1",
   "metadata": {},
   "source": [
    "# Data Exploration"
   ]
  },
  {
   "cell_type": "code",
   "execution_count": null,
   "id": "83fe926f",
   "metadata": {},
   "outputs": [
    {
     "name": "stdout",
     "output_type": "stream",
     "text": [
      "Top-level keys: ['amecro', 'amerob', 'bewwre', 'bkcchi', 'daejun', 'houfin', 'houspa', 'norfli', 'rewbla', 'sonspa', 'spotow', 'whcspa']\n"
     ]
    }
   ],
   "source": [
    "with h5py.File('../data/bird_spectrograms.hdf5', 'r') as f:\n",
    "    # List all groups/datasets at the top level\n",
    "    print(\"Top-level keys:\", list(f.keys()))       "
   ]
  },
  {
   "cell_type": "code",
   "execution_count": null,
   "id": "ce87f5d3",
   "metadata": {},
   "outputs": [],
   "source": [
    "# Keys that are in the bird_spectrogram\n",
    "keys = [\n",
    "    'amecro',\n",
    "    'amerob',\n",
    "    'bewwre',\n",
    "    'bkcchi',\n",
    "    'daejun',\n",
    "    'houfin',\n",
    "    'houspa',\n",
    "    'norfli',\n",
    "    'rewbla',\n",
    "    'sonspa',\n",
    "    'spotow',\n",
    "    'whcspa'\n",
    "]\n",
    "\n",
    "SPEC_FILE_PATH = Path(f'../data/bird_spectrograms.hdf5')"
   ]
  },
  {
   "cell_type": "code",
   "execution_count": null,
   "id": "4ef77ee3",
   "metadata": {},
   "outputs": [
    {
     "name": "stdout",
     "output_type": "stream",
     "text": [
      "[('houspa', 630), ('sonspa', 263)]\n"
     ]
    }
   ],
   "source": [
    "# Figuring out which bird has the largest sample size for Binary Classification\n",
    "sample_counts = {}\n",
    "\n",
    "with h5py.File(SPEC_FILE_PATH, 'r') as f:\n",
    "\n",
    "    for key in f.keys():\n",
    "        dset = f[key]\n",
    "        shape = dset.shape\n",
    "\n",
    "         # Ensure it's a valid spectrogram shape\n",
    "        if shape[:2] == (128, 517): \n",
    "            sample_counts[key] = shape[2]\n",
    "\n",
    "top_keys = sorted(sample_counts.items(), key=lambda x: x[1], reverse=True)[:3]\n",
    "\n",
    "print(top_keys) # [('houspa', 630), ('sonspa', 263)]"
   ]
  },
  {
   "cell_type": "code",
   "execution_count": null,
   "id": "ed2ceb24",
   "metadata": {},
   "outputs": [],
   "source": []
  }
 ],
 "metadata": {
  "kernelspec": {
   "display_name": "venv",
   "language": "python",
   "name": "python3"
  },
  "language_info": {
   "codemirror_mode": {
    "name": "ipython",
    "version": 3
   },
   "file_extension": ".py",
   "mimetype": "text/x-python",
   "name": "python",
   "nbconvert_exporter": "python",
   "pygments_lexer": "ipython3",
   "version": "3.13.0"
  }
 },
 "nbformat": 4,
 "nbformat_minor": 5
}
